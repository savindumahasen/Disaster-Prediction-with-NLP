{
 "cells": [
  {
   "cell_type": "code",
   "execution_count": 1,
   "id": "140e0081-2670-429b-9ce2-cdfe638f71cc",
   "metadata": {},
   "outputs": [],
   "source": [
    "import pandas as pd\n",
    "import numpy as np\n",
    "import seaborn as sns\n"
   ]
  },
  {
   "cell_type": "code",
   "execution_count": 2,
   "id": "b4d89d0e-f176-43ca-b8f0-3204051e2ec2",
   "metadata": {},
   "outputs": [
    {
     "data": {
      "text/html": [
       "<div>\n",
       "<style scoped>\n",
       "    .dataframe tbody tr th:only-of-type {\n",
       "        vertical-align: middle;\n",
       "    }\n",
       "\n",
       "    .dataframe tbody tr th {\n",
       "        vertical-align: top;\n",
       "    }\n",
       "\n",
       "    .dataframe thead th {\n",
       "        text-align: right;\n",
       "    }\n",
       "</style>\n",
       "<table border=\"1\" class=\"dataframe\">\n",
       "  <thead>\n",
       "    <tr style=\"text-align: right;\">\n",
       "      <th></th>\n",
       "      <th>id</th>\n",
       "      <th>keyword</th>\n",
       "      <th>location</th>\n",
       "      <th>text</th>\n",
       "      <th>target</th>\n",
       "    </tr>\n",
       "  </thead>\n",
       "  <tbody>\n",
       "    <tr>\n",
       "      <th>0</th>\n",
       "      <td>1</td>\n",
       "      <td>NaN</td>\n",
       "      <td>NaN</td>\n",
       "      <td>Our Deeds are the Reason of this #earthquake M...</td>\n",
       "      <td>1</td>\n",
       "    </tr>\n",
       "    <tr>\n",
       "      <th>1</th>\n",
       "      <td>4</td>\n",
       "      <td>NaN</td>\n",
       "      <td>NaN</td>\n",
       "      <td>Forest fire near La Ronge Sask. Canada</td>\n",
       "      <td>1</td>\n",
       "    </tr>\n",
       "    <tr>\n",
       "      <th>2</th>\n",
       "      <td>5</td>\n",
       "      <td>NaN</td>\n",
       "      <td>NaN</td>\n",
       "      <td>All residents asked to 'shelter in place' are ...</td>\n",
       "      <td>1</td>\n",
       "    </tr>\n",
       "    <tr>\n",
       "      <th>3</th>\n",
       "      <td>6</td>\n",
       "      <td>NaN</td>\n",
       "      <td>NaN</td>\n",
       "      <td>13,000 people receive #wildfires evacuation or...</td>\n",
       "      <td>1</td>\n",
       "    </tr>\n",
       "    <tr>\n",
       "      <th>4</th>\n",
       "      <td>7</td>\n",
       "      <td>NaN</td>\n",
       "      <td>NaN</td>\n",
       "      <td>Just got sent this photo from Ruby #Alaska as ...</td>\n",
       "      <td>1</td>\n",
       "    </tr>\n",
       "  </tbody>\n",
       "</table>\n",
       "</div>"
      ],
      "text/plain": [
       "   id keyword location                                               text  \\\n",
       "0   1     NaN      NaN  Our Deeds are the Reason of this #earthquake M...   \n",
       "1   4     NaN      NaN             Forest fire near La Ronge Sask. Canada   \n",
       "2   5     NaN      NaN  All residents asked to 'shelter in place' are ...   \n",
       "3   6     NaN      NaN  13,000 people receive #wildfires evacuation or...   \n",
       "4   7     NaN      NaN  Just got sent this photo from Ruby #Alaska as ...   \n",
       "\n",
       "   target  \n",
       "0       1  \n",
       "1       1  \n",
       "2       1  \n",
       "3       1  \n",
       "4       1  "
      ]
     },
     "execution_count": 2,
     "metadata": {},
     "output_type": "execute_result"
    }
   ],
   "source": [
    "train_dataset =pd.read_csv(\"train.csv\", encoding=\"ISO-8859-1\")\n",
    "train_dataset.head()"
   ]
  },
  {
   "cell_type": "markdown",
   "id": "c15cdbc2-36c7-44ff-afc1-9986043da77c",
   "metadata": {},
   "source": [
    "## Explotary Data Analaysis (EDA)"
   ]
  },
  {
   "cell_type": "markdown",
   "id": "1b7d69ff-5bef-4b0c-9669-c1c9beff27b5",
   "metadata": {},
   "source": [
    "### Preprocessing"
   ]
  },
  {
   "cell_type": "code",
   "execution_count": 3,
   "id": "ecc73b0f-7afc-460f-af6a-0df1ac4deb2c",
   "metadata": {},
   "outputs": [],
   "source": [
    "## Check the information about the training set"
   ]
  },
  {
   "cell_type": "code",
   "execution_count": 4,
   "id": "ec2cf2ae-f610-4a1d-a62e-284c788d7881",
   "metadata": {},
   "outputs": [
    {
     "name": "stdout",
     "output_type": "stream",
     "text": [
      "<class 'pandas.core.frame.DataFrame'>\n",
      "RangeIndex: 7613 entries, 0 to 7612\n",
      "Data columns (total 5 columns):\n",
      " #   Column    Non-Null Count  Dtype \n",
      "---  ------    --------------  ----- \n",
      " 0   id        7613 non-null   int64 \n",
      " 1   keyword   7552 non-null   object\n",
      " 2   location  5080 non-null   object\n",
      " 3   text      7613 non-null   object\n",
      " 4   target    7613 non-null   int64 \n",
      "dtypes: int64(2), object(3)\n",
      "memory usage: 297.5+ KB\n"
     ]
    }
   ],
   "source": [
    "train_dataset.info()"
   ]
  },
  {
   "cell_type": "code",
   "execution_count": 5,
   "id": "db29e917-6093-4733-9f65-7b9fb133d750",
   "metadata": {},
   "outputs": [],
   "source": [
    "## Check the duplicated entries of the training set"
   ]
  },
  {
   "cell_type": "code",
   "execution_count": 6,
   "id": "6fca957e-a8a9-4d57-879f-2d284d6dd1da",
   "metadata": {},
   "outputs": [
    {
     "data": {
      "text/plain": [
       "0"
      ]
     },
     "execution_count": 6,
     "metadata": {},
     "output_type": "execute_result"
    }
   ],
   "source": [
    "train_dataset.duplicated().sum()"
   ]
  },
  {
   "cell_type": "code",
   "execution_count": 7,
   "id": "31670778-83cd-454e-9339-8853de1dfb53",
   "metadata": {},
   "outputs": [],
   "source": [
    "## Get the value counts of keyword column"
   ]
  },
  {
   "cell_type": "code",
   "execution_count": 8,
   "id": "92dabab3-406c-4942-b468-039af9909dea",
   "metadata": {},
   "outputs": [
    {
     "data": {
      "text/plain": [
       "keyword\n",
       "fatalities               45\n",
       "deluge                   42\n",
       "armageddon               42\n",
       "sinking                  41\n",
       "damage                   41\n",
       "                         ..\n",
       "forest%20fire            19\n",
       "epicentre                12\n",
       "threat                   11\n",
       "inundation               10\n",
       "radiation%20emergency     9\n",
       "Name: count, Length: 221, dtype: int64"
      ]
     },
     "execution_count": 8,
     "metadata": {},
     "output_type": "execute_result"
    }
   ],
   "source": [
    "train_dataset['keyword'].value_counts()"
   ]
  },
  {
   "cell_type": "code",
   "execution_count": 9,
   "id": "b17e0869-c04a-469f-9dfb-e50207364b88",
   "metadata": {},
   "outputs": [],
   "source": [
    "## Get the value counts of location column"
   ]
  },
  {
   "cell_type": "code",
   "execution_count": 10,
   "id": "c664d5ad-3057-4497-a986-cfacd0e215ec",
   "metadata": {},
   "outputs": [
    {
     "data": {
      "text/plain": [
       "location\n",
       "USA                   104\n",
       "New York               71\n",
       "United States          50\n",
       "London                 45\n",
       "Canada                 29\n",
       "                     ... \n",
       "Montr?al, Qu?bec        1\n",
       "Montreal                1\n",
       "?T: 6.4682,3.18287      1\n",
       "Live4Heed??             1\n",
       "Lincoln                 1\n",
       "Name: count, Length: 3340, dtype: int64"
      ]
     },
     "execution_count": 10,
     "metadata": {},
     "output_type": "execute_result"
    }
   ],
   "source": [
    "train_dataset['location'].value_counts()"
   ]
  },
  {
   "cell_type": "code",
   "execution_count": 11,
   "id": "41b55882-1eb1-4846-b841-41a3c0418c0e",
   "metadata": {},
   "outputs": [
    {
     "data": {
      "text/plain": [
       "0       NaN\n",
       "1       NaN\n",
       "2       NaN\n",
       "3       NaN\n",
       "4       NaN\n",
       "       ... \n",
       "7608    NaN\n",
       "7609    NaN\n",
       "7610    NaN\n",
       "7611    NaN\n",
       "7612    NaN\n",
       "Name: location, Length: 7613, dtype: object"
      ]
     },
     "execution_count": 11,
     "metadata": {},
     "output_type": "execute_result"
    }
   ],
   "source": [
    "train_dataset['location']"
   ]
  },
  {
   "cell_type": "code",
   "execution_count": 12,
   "id": "9d9f775d-abb5-4256-975d-853700bef327",
   "metadata": {},
   "outputs": [],
   "source": [
    "## check the null values of the keyword column"
   ]
  },
  {
   "cell_type": "code",
   "execution_count": 13,
   "id": "0c22616d-c30b-4469-9101-d007867f0675",
   "metadata": {},
   "outputs": [
    {
     "data": {
      "text/plain": [
       "61"
      ]
     },
     "execution_count": 13,
     "metadata": {},
     "output_type": "execute_result"
    }
   ],
   "source": [
    "train_dataset['keyword'].isnull().sum()"
   ]
  },
  {
   "cell_type": "code",
   "execution_count": 14,
   "id": "ece034cd-006c-404e-a66d-ae8611923d0b",
   "metadata": {},
   "outputs": [],
   "source": [
    "## check the null values of the location column"
   ]
  },
  {
   "cell_type": "code",
   "execution_count": 15,
   "id": "cdbb03b2-d6e2-4ca9-82b2-ba6f5f98ee31",
   "metadata": {},
   "outputs": [
    {
     "data": {
      "text/plain": [
       "2533"
      ]
     },
     "execution_count": 15,
     "metadata": {},
     "output_type": "execute_result"
    }
   ],
   "source": [
    "train_dataset['location'].isnull().sum()"
   ]
  },
  {
   "cell_type": "code",
   "execution_count": 16,
   "id": "1b5326b4-f095-406a-a568-53afa429bd93",
   "metadata": {},
   "outputs": [],
   "source": [
    "## fill the nul values"
   ]
  },
  {
   "cell_type": "code",
   "execution_count": 17,
   "id": "9bc4c1fc-c254-4433-886b-f687643ce785",
   "metadata": {},
   "outputs": [],
   "source": [
    " train_dataset['location'].fillna('Canada', inplace=True)\n",
    " train_dataset['keyword'].fillna('radiation%20emergency', inplace=True)"
   ]
  },
  {
   "cell_type": "code",
   "execution_count": 18,
   "id": "01e277a8-77eb-42da-a74a-e4c6dc47bae6",
   "metadata": {},
   "outputs": [
    {
     "data": {
      "text/html": [
       "<div>\n",
       "<style scoped>\n",
       "    .dataframe tbody tr th:only-of-type {\n",
       "        vertical-align: middle;\n",
       "    }\n",
       "\n",
       "    .dataframe tbody tr th {\n",
       "        vertical-align: top;\n",
       "    }\n",
       "\n",
       "    .dataframe thead th {\n",
       "        text-align: right;\n",
       "    }\n",
       "</style>\n",
       "<table border=\"1\" class=\"dataframe\">\n",
       "  <thead>\n",
       "    <tr style=\"text-align: right;\">\n",
       "      <th></th>\n",
       "      <th>id</th>\n",
       "      <th>keyword</th>\n",
       "      <th>location</th>\n",
       "      <th>text</th>\n",
       "      <th>target</th>\n",
       "    </tr>\n",
       "  </thead>\n",
       "  <tbody>\n",
       "    <tr>\n",
       "      <th>0</th>\n",
       "      <td>1</td>\n",
       "      <td>radiation%20emergency</td>\n",
       "      <td>Canada</td>\n",
       "      <td>Our Deeds are the Reason of this #earthquake M...</td>\n",
       "      <td>1</td>\n",
       "    </tr>\n",
       "    <tr>\n",
       "      <th>1</th>\n",
       "      <td>4</td>\n",
       "      <td>radiation%20emergency</td>\n",
       "      <td>Canada</td>\n",
       "      <td>Forest fire near La Ronge Sask. Canada</td>\n",
       "      <td>1</td>\n",
       "    </tr>\n",
       "    <tr>\n",
       "      <th>2</th>\n",
       "      <td>5</td>\n",
       "      <td>radiation%20emergency</td>\n",
       "      <td>Canada</td>\n",
       "      <td>All residents asked to 'shelter in place' are ...</td>\n",
       "      <td>1</td>\n",
       "    </tr>\n",
       "    <tr>\n",
       "      <th>3</th>\n",
       "      <td>6</td>\n",
       "      <td>radiation%20emergency</td>\n",
       "      <td>Canada</td>\n",
       "      <td>13,000 people receive #wildfires evacuation or...</td>\n",
       "      <td>1</td>\n",
       "    </tr>\n",
       "    <tr>\n",
       "      <th>4</th>\n",
       "      <td>7</td>\n",
       "      <td>radiation%20emergency</td>\n",
       "      <td>Canada</td>\n",
       "      <td>Just got sent this photo from Ruby #Alaska as ...</td>\n",
       "      <td>1</td>\n",
       "    </tr>\n",
       "  </tbody>\n",
       "</table>\n",
       "</div>"
      ],
      "text/plain": [
       "   id                keyword location  \\\n",
       "0   1  radiation%20emergency   Canada   \n",
       "1   4  radiation%20emergency   Canada   \n",
       "2   5  radiation%20emergency   Canada   \n",
       "3   6  radiation%20emergency   Canada   \n",
       "4   7  radiation%20emergency   Canada   \n",
       "\n",
       "                                                text  target  \n",
       "0  Our Deeds are the Reason of this #earthquake M...       1  \n",
       "1             Forest fire near La Ronge Sask. Canada       1  \n",
       "2  All residents asked to 'shelter in place' are ...       1  \n",
       "3  13,000 people receive #wildfires evacuation or...       1  \n",
       "4  Just got sent this photo from Ruby #Alaska as ...       1  "
      ]
     },
     "execution_count": 18,
     "metadata": {},
     "output_type": "execute_result"
    }
   ],
   "source": [
    "train_dataset.head()"
   ]
  },
  {
   "cell_type": "code",
   "execution_count": 19,
   "id": "84b79b5b-6277-4bad-a9de-ec7aeb10bbbd",
   "metadata": {},
   "outputs": [
    {
     "name": "stdout",
     "output_type": "stream",
     "text": [
      "<class 'pandas.core.frame.DataFrame'>\n",
      "RangeIndex: 7613 entries, 0 to 7612\n",
      "Data columns (total 5 columns):\n",
      " #   Column    Non-Null Count  Dtype \n",
      "---  ------    --------------  ----- \n",
      " 0   id        7613 non-null   int64 \n",
      " 1   keyword   7613 non-null   object\n",
      " 2   location  7613 non-null   object\n",
      " 3   text      7613 non-null   object\n",
      " 4   target    7613 non-null   int64 \n",
      "dtypes: int64(2), object(3)\n",
      "memory usage: 297.5+ KB\n"
     ]
    }
   ],
   "source": [
    "train_dataset.info()"
   ]
  },
  {
   "cell_type": "markdown",
   "id": "09b96b85-72c1-46fd-a925-2b2c4f2de2b9",
   "metadata": {},
   "source": [
    "#### Text Preprcoessing"
   ]
  },
  {
   "cell_type": "code",
   "execution_count": 20,
   "id": "b011c561-0819-4996-900b-436d0d918d41",
   "metadata": {},
   "outputs": [],
   "source": [
    "import re\n",
    "import string"
   ]
  },
  {
   "cell_type": "code",
   "execution_count": 21,
   "id": "980806ba-4108-41ef-b768-83684fa5ce9e",
   "metadata": {},
   "outputs": [
    {
     "data": {
      "text/plain": [
       "0    Our Deeds are the Reason of this #earthquake M...\n",
       "1               Forest fire near La Ronge Sask. Canada\n",
       "2    All residents asked to 'shelter in place' are ...\n",
       "3    13,000 people receive #wildfires evacuation or...\n",
       "4    Just got sent this photo from Ruby #Alaska as ...\n",
       "Name: text, dtype: object"
      ]
     },
     "execution_count": 21,
     "metadata": {},
     "output_type": "execute_result"
    }
   ],
   "source": [
    "train_dataset['text'].head()"
   ]
  },
  {
   "cell_type": "code",
   "execution_count": 22,
   "id": "6bd54e66-1fe3-4782-8558-97b49f8b4d9a",
   "metadata": {},
   "outputs": [
    {
     "data": {
      "text/plain": [
       "0    radiation%20emergency\n",
       "1    radiation%20emergency\n",
       "2    radiation%20emergency\n",
       "3    radiation%20emergency\n",
       "4    radiation%20emergency\n",
       "Name: keyword, dtype: object"
      ]
     },
     "execution_count": 22,
     "metadata": {},
     "output_type": "execute_result"
    }
   ],
   "source": [
    "train_dataset['keyword'].head()"
   ]
  },
  {
   "cell_type": "code",
   "execution_count": 23,
   "id": "ed9fc8bc-2566-4e65-a6e8-0a41d11bbde1",
   "metadata": {},
   "outputs": [
    {
     "data": {
      "text/plain": [
       "0    Canada\n",
       "1    Canada\n",
       "2    Canada\n",
       "3    Canada\n",
       "4    Canada\n",
       "Name: location, dtype: object"
      ]
     },
     "execution_count": 23,
     "metadata": {},
     "output_type": "execute_result"
    }
   ],
   "source": [
    "train_dataset['location'].head()"
   ]
  },
  {
   "cell_type": "code",
   "execution_count": 24,
   "id": "6d76e46e-f31b-47c8-aab9-6e6ac0b6a967",
   "metadata": {},
   "outputs": [],
   "source": [
    "## convert the uppercase letters into the lowercase letters"
   ]
  },
  {
   "cell_type": "code",
   "execution_count": 25,
   "id": "091650f8-2df0-4f65-ab1d-926565ae1796",
   "metadata": {},
   "outputs": [
    {
     "data": {
      "text/plain": [
       "0       our deeds are the reason of this #earthquake m...\n",
       "1                  forest fire near la ronge sask. canada\n",
       "2       all residents asked to 'shelter in place' are ...\n",
       "3       13,000 people receive #wildfires evacuation or...\n",
       "4       just got sent this photo from ruby #alaska as ...\n",
       "                              ...                        \n",
       "7608    two giant cranes holding a bridge collapse int...\n",
       "7609    @aria_ahrary @thetawniest the out of control w...\n",
       "7610    m1.94 [01:04 utc]?5km s of volcano hawaii. htt...\n",
       "7611    police investigating after an e-bike collided ...\n",
       "7612    the latest: more homes razed by northern calif...\n",
       "Name: text, Length: 7613, dtype: object"
      ]
     },
     "execution_count": 25,
     "metadata": {},
     "output_type": "execute_result"
    }
   ],
   "source": [
    "train_dataset['text'] = train_dataset['text'].apply(lambda x:\" \".join(x.lower() for x in x.split()))\n",
    "train_dataset['text']"
   ]
  },
  {
   "cell_type": "code",
   "execution_count": 26,
   "id": "a66028d6-b9d3-4bfe-80cf-51fff1063cc2",
   "metadata": {},
   "outputs": [
    {
     "data": {
      "text/plain": [
       "100                         uk\n",
       "101             nairobi, kenya\n",
       "102    instagram - @heyimginog\n",
       "103                        304\n",
       "104                switzerland\n",
       "                ...           \n",
       "195        || c h i c a g o ||\n",
       "196                     canada\n",
       "197                      l. a.\n",
       "198                     canada\n",
       "199                     canada\n",
       "Name: location, Length: 100, dtype: object"
      ]
     },
     "execution_count": 26,
     "metadata": {},
     "output_type": "execute_result"
    }
   ],
   "source": [
    "train_dataset['location']=train_dataset['location'].apply(lambda x:\" \".join(x.lower() for x in x.split()))\n",
    "train_dataset['location'].iloc[100:200]"
   ]
  },
  {
   "cell_type": "code",
   "execution_count": 27,
   "id": "2034f617-85f8-4e90-a95b-e30ce82eafe9",
   "metadata": {},
   "outputs": [],
   "source": [
    "## Remove the links"
   ]
  },
  {
   "cell_type": "code",
   "execution_count": 28,
   "id": "ccbcfb81-0bd0-49b1-a1c9-53a9c47e80a1",
   "metadata": {},
   "outputs": [
    {
     "data": {
      "text/plain": [
       "0    our deeds are the reason of this #earthquake m...\n",
       "1               forest fire near la ronge sask. canada\n",
       "2    all residents asked to 'shelter in place' are ...\n",
       "3    13,000 people receive #wildfires evacuation or...\n",
       "4    just got sent this photo from ruby #alaska as ...\n",
       "Name: text, dtype: object"
      ]
     },
     "execution_count": 28,
     "metadata": {},
     "output_type": "execute_result"
    }
   ],
   "source": [
    "train_dataset['text']=train_dataset['text'].apply(lambda x: \" \".join(re.sub(r'^https?:\\/\\/.*[\\r\\n]*','',x,flags=re.MULTILINE) for x in x.split()))\n",
    "train_dataset['text'].head()"
   ]
  },
  {
   "cell_type": "code",
   "execution_count": 29,
   "id": "fcde335b-742f-4dd5-a4aa-edc9a551234c",
   "metadata": {},
   "outputs": [],
   "source": [
    "## Remove Punctuations"
   ]
  },
  {
   "cell_type": "code",
   "execution_count": 30,
   "id": "bb0cfdd9-b56d-483b-a5b2-22d3b924ddeb",
   "metadata": {},
   "outputs": [
    {
     "data": {
      "text/plain": [
       "'!\"#$%&\\'()*+,-./:;<=>?@[\\\\]^_`{|}~'"
      ]
     },
     "execution_count": 30,
     "metadata": {},
     "output_type": "execute_result"
    }
   ],
   "source": [
    "string.punctuation"
   ]
  },
  {
   "cell_type": "code",
   "execution_count": 31,
   "id": "eb7e19e9-14db-4664-9083-e216f96aeca4",
   "metadata": {},
   "outputs": [],
   "source": [
    "def remove_puncutations_of_text(text):\n",
    "    for punctuation in string.punctuation:\n",
    "        text=text.replace(punctuation, '')\n",
    "    return text\n",
    "train_dataset['text']=train_dataset['text'].apply(remove_puncutations_of_text)"
   ]
  },
  {
   "cell_type": "code",
   "execution_count": 32,
   "id": "4d0ef4ea-ab62-42c2-a6dd-60c00190d489",
   "metadata": {},
   "outputs": [
    {
     "data": {
      "text/plain": [
       "0    our deeds are the reason of this earthquake ma...\n",
       "1                forest fire near la ronge sask canada\n",
       "2    all residents asked to shelter in place are be...\n",
       "3    13000 people receive wildfires evacuation orde...\n",
       "4    just got sent this photo from ruby alaska as s...\n",
       "Name: text, dtype: object"
      ]
     },
     "execution_count": 32,
     "metadata": {},
     "output_type": "execute_result"
    }
   ],
   "source": [
    "train_dataset['text'].head()"
   ]
  },
  {
   "cell_type": "code",
   "execution_count": 33,
   "id": "6fb06cde-f85e-4c8c-8a90-4a6effbf84ac",
   "metadata": {},
   "outputs": [],
   "source": [
    "def remove_punctuations_of_location(text):\n",
    "    for punctuations in string.punctuation:\n",
    "        location=text.replace(punctuations,'')\n",
    "    return location\n",
    "train_dataset['location']=train_dataset['location'].apply(remove_punctuations_of_location)"
   ]
  },
  {
   "cell_type": "code",
   "execution_count": 34,
   "id": "38ff0755-637b-4738-8515-e265ea8bc110",
   "metadata": {},
   "outputs": [
    {
     "data": {
      "text/plain": [
       "0    canada\n",
       "1    canada\n",
       "2    canada\n",
       "3    canada\n",
       "4    canada\n",
       "Name: location, dtype: object"
      ]
     },
     "execution_count": 34,
     "metadata": {},
     "output_type": "execute_result"
    }
   ],
   "source": [
    "train_dataset['location'].head()"
   ]
  },
  {
   "cell_type": "code",
   "execution_count": 35,
   "id": "97178919-8190-4b30-82ca-27e4daa99647",
   "metadata": {},
   "outputs": [],
   "source": [
    "def remove_punctuations_of_keyword(text):\n",
    "    for punctuations in string.punctuation:\n",
    "        keyword=text.replace(punctuations,'')\n",
    "    return keyword\n",
    "train_dataset['keyword']=train_dataset['keyword'].apply(remove_punctuations_of_keyword)"
   ]
  },
  {
   "cell_type": "code",
   "execution_count": 36,
   "id": "92e93b50-eb1d-43bf-ba53-8dc63a9058e8",
   "metadata": {},
   "outputs": [
    {
     "data": {
      "text/plain": [
       "0    radiation%20emergency\n",
       "1    radiation%20emergency\n",
       "2    radiation%20emergency\n",
       "3    radiation%20emergency\n",
       "4    radiation%20emergency\n",
       "Name: keyword, dtype: object"
      ]
     },
     "execution_count": 36,
     "metadata": {},
     "output_type": "execute_result"
    }
   ],
   "source": [
    "train_dataset['keyword'].head()"
   ]
  },
  {
   "cell_type": "code",
   "execution_count": 37,
   "id": "ceeb15e4-22d1-4577-b549-51cf55976aa7",
   "metadata": {},
   "outputs": [],
   "source": [
    "## remove the numbers"
   ]
  },
  {
   "cell_type": "code",
   "execution_count": 38,
   "id": "6831d0f1-7c2a-4e28-8ba6-fcbd53bd1591",
   "metadata": {},
   "outputs": [
    {
     "name": "stderr",
     "output_type": "stream",
     "text": [
      "<>:1: SyntaxWarning: invalid escape sequence '\\d'\n",
      "<>:1: SyntaxWarning: invalid escape sequence '\\d'\n",
      "C:\\Users\\THIS PC\\AppData\\Local\\Temp\\ipykernel_57796\\4125517438.py:1: SyntaxWarning: invalid escape sequence '\\d'\n",
      "  train_dataset['text']=train_dataset['text'].str.replace('\\d+','',regex=True)\n"
     ]
    }
   ],
   "source": [
    "train_dataset['text']=train_dataset['text'].str.replace('\\d+','',regex=True)"
   ]
  },
  {
   "cell_type": "code",
   "execution_count": 39,
   "id": "968a4cd8-4905-4ab9-bcc8-ec413966f4b2",
   "metadata": {},
   "outputs": [
    {
     "data": {
      "text/plain": [
       "0    our deeds are the reason of this earthquake ma...\n",
       "1                forest fire near la ronge sask canada\n",
       "2    all residents asked to shelter in place are be...\n",
       "3     people receive wildfires evacuation orders in...\n",
       "4    just got sent this photo from ruby alaska as s...\n",
       "Name: text, dtype: object"
      ]
     },
     "execution_count": 39,
     "metadata": {},
     "output_type": "execute_result"
    }
   ],
   "source": [
    "train_dataset['text'].head()"
   ]
  },
  {
   "cell_type": "code",
   "execution_count": 40,
   "id": "9e821313-0858-40aa-a360-cd3f27b46c5f",
   "metadata": {},
   "outputs": [
    {
     "name": "stderr",
     "output_type": "stream",
     "text": [
      "<>:1: SyntaxWarning: invalid escape sequence '\\d'\n",
      "<>:1: SyntaxWarning: invalid escape sequence '\\d'\n",
      "C:\\Users\\THIS PC\\AppData\\Local\\Temp\\ipykernel_57796\\3033268000.py:1: SyntaxWarning: invalid escape sequence '\\d'\n",
      "  train_dataset['keyword']=train_dataset['keyword'].str.replace('\\d+','',regex=True)\n"
     ]
    }
   ],
   "source": [
    "train_dataset['keyword']=train_dataset['keyword'].str.replace('\\d+','',regex=True)\n"
   ]
  },
  {
   "cell_type": "code",
   "execution_count": 41,
   "id": "0ec3a6b1-e459-443f-999f-963be6a55e1d",
   "metadata": {},
   "outputs": [
    {
     "data": {
      "text/plain": [
       "0    radiation%emergency\n",
       "1    radiation%emergency\n",
       "2    radiation%emergency\n",
       "3    radiation%emergency\n",
       "4    radiation%emergency\n",
       "Name: keyword, dtype: object"
      ]
     },
     "execution_count": 41,
     "metadata": {},
     "output_type": "execute_result"
    }
   ],
   "source": [
    "train_dataset['keyword'].head()"
   ]
  },
  {
   "cell_type": "code",
   "execution_count": 42,
   "id": "f0c4d365-8cbf-4968-9fef-587e1663c059",
   "metadata": {},
   "outputs": [],
   "source": [
    "## Remove the stop words"
   ]
  },
  {
   "cell_type": "code",
   "execution_count": 43,
   "id": "7f867095-5fed-4696-ab06-f87e099358b9",
   "metadata": {},
   "outputs": [],
   "source": [
    "import nltk"
   ]
  },
  {
   "cell_type": "code",
   "execution_count": 44,
   "id": "32ca489d-072d-4a3d-9c7c-dac31ee8c7fd",
   "metadata": {},
   "outputs": [
    {
     "name": "stderr",
     "output_type": "stream",
     "text": [
      "[nltk_data] Downloading package stopwords to static/model...\n",
      "[nltk_data]   Package stopwords is already up-to-date!\n"
     ]
    },
    {
     "data": {
      "text/plain": [
       "True"
      ]
     },
     "execution_count": 44,
     "metadata": {},
     "output_type": "execute_result"
    }
   ],
   "source": [
    "nltk.download('stopwords', download_dir=\"static/model\") \n"
   ]
  },
  {
   "cell_type": "code",
   "execution_count": 45,
   "id": "ebd27bc0-3566-48aa-894e-84bf6b0175c4",
   "metadata": {},
   "outputs": [],
   "source": [
    "with open('./static/model/corpora/stopwords/english', 'r') as file:\n",
    "    sw =file.read().splitlines()\n",
    "    "
   ]
  },
  {
   "cell_type": "code",
   "execution_count": 46,
   "id": "04c88285-e14a-4fec-8927-bb3ea95fa2cb",
   "metadata": {},
   "outputs": [
    {
     "data": {
      "text/plain": [
       "['i',\n",
       " 'me',\n",
       " 'my',\n",
       " 'myself',\n",
       " 'we',\n",
       " 'our',\n",
       " 'ours',\n",
       " 'ourselves',\n",
       " 'you',\n",
       " \"you're\",\n",
       " \"you've\",\n",
       " \"you'll\",\n",
       " \"you'd\",\n",
       " 'your',\n",
       " 'yours',\n",
       " 'yourself',\n",
       " 'yourselves',\n",
       " 'he',\n",
       " 'him',\n",
       " 'his',\n",
       " 'himself',\n",
       " 'she',\n",
       " \"she's\",\n",
       " 'her',\n",
       " 'hers',\n",
       " 'herself',\n",
       " 'it',\n",
       " \"it's\",\n",
       " 'its',\n",
       " 'itself',\n",
       " 'they',\n",
       " 'them',\n",
       " 'their',\n",
       " 'theirs',\n",
       " 'themselves',\n",
       " 'what',\n",
       " 'which',\n",
       " 'who',\n",
       " 'whom',\n",
       " 'this',\n",
       " 'that',\n",
       " \"that'll\",\n",
       " 'these',\n",
       " 'those',\n",
       " 'am',\n",
       " 'is',\n",
       " 'are',\n",
       " 'was',\n",
       " 'were',\n",
       " 'be',\n",
       " 'been',\n",
       " 'being',\n",
       " 'have',\n",
       " 'has',\n",
       " 'had',\n",
       " 'having',\n",
       " 'do',\n",
       " 'does',\n",
       " 'did',\n",
       " 'doing',\n",
       " 'a',\n",
       " 'an',\n",
       " 'the',\n",
       " 'and',\n",
       " 'but',\n",
       " 'if',\n",
       " 'or',\n",
       " 'because',\n",
       " 'as',\n",
       " 'until',\n",
       " 'while',\n",
       " 'of',\n",
       " 'at',\n",
       " 'by',\n",
       " 'for',\n",
       " 'with',\n",
       " 'about',\n",
       " 'against',\n",
       " 'between',\n",
       " 'into',\n",
       " 'through',\n",
       " 'during',\n",
       " 'before',\n",
       " 'after',\n",
       " 'above',\n",
       " 'below',\n",
       " 'to',\n",
       " 'from',\n",
       " 'up',\n",
       " 'down',\n",
       " 'in',\n",
       " 'out',\n",
       " 'on',\n",
       " 'off',\n",
       " 'over',\n",
       " 'under',\n",
       " 'again',\n",
       " 'further',\n",
       " 'then',\n",
       " 'once',\n",
       " 'here',\n",
       " 'there',\n",
       " 'when',\n",
       " 'where',\n",
       " 'why',\n",
       " 'how',\n",
       " 'all',\n",
       " 'any',\n",
       " 'both',\n",
       " 'each',\n",
       " 'few',\n",
       " 'more',\n",
       " 'most',\n",
       " 'other',\n",
       " 'some',\n",
       " 'such',\n",
       " 'no',\n",
       " 'nor',\n",
       " 'not',\n",
       " 'only',\n",
       " 'own',\n",
       " 'same',\n",
       " 'so',\n",
       " 'than',\n",
       " 'too',\n",
       " 'very',\n",
       " 's',\n",
       " 't',\n",
       " 'can',\n",
       " 'will',\n",
       " 'just',\n",
       " 'don',\n",
       " \"don't\",\n",
       " 'should',\n",
       " \"should've\",\n",
       " 'now',\n",
       " 'd',\n",
       " 'll',\n",
       " 'm',\n",
       " 'o',\n",
       " 're',\n",
       " 've',\n",
       " 'y',\n",
       " 'ain',\n",
       " 'aren',\n",
       " \"aren't\",\n",
       " 'couldn',\n",
       " \"couldn't\",\n",
       " 'didn',\n",
       " \"didn't\",\n",
       " 'doesn',\n",
       " \"doesn't\",\n",
       " 'hadn',\n",
       " \"hadn't\",\n",
       " 'hasn',\n",
       " \"hasn't\",\n",
       " 'haven',\n",
       " \"haven't\",\n",
       " 'isn',\n",
       " \"isn't\",\n",
       " 'ma',\n",
       " 'mightn',\n",
       " \"mightn't\",\n",
       " 'mustn',\n",
       " \"mustn't\",\n",
       " 'needn',\n",
       " \"needn't\",\n",
       " 'shan',\n",
       " \"shan't\",\n",
       " 'shouldn',\n",
       " \"shouldn't\",\n",
       " 'wasn',\n",
       " \"wasn't\",\n",
       " 'weren',\n",
       " \"weren't\",\n",
       " 'won',\n",
       " \"won't\",\n",
       " 'wouldn',\n",
       " \"wouldn't\"]"
      ]
     },
     "execution_count": 46,
     "metadata": {},
     "output_type": "execute_result"
    }
   ],
   "source": [
    "sw"
   ]
  },
  {
   "cell_type": "code",
   "execution_count": 47,
   "id": "1ed74c4f-6253-49d0-b0e2-b2dce0e4217b",
   "metadata": {},
   "outputs": [
    {
     "data": {
      "text/plain": [
       "0         deeds reason earthquake may allah forgive us\n",
       "1                forest fire near la ronge sask canada\n",
       "2    residents asked shelter place notified officer...\n",
       "3    people receive wildfires evacuation orders cal...\n",
       "4    got sent photo ruby alaska smoke wildfires pou...\n",
       "Name: text, dtype: object"
      ]
     },
     "execution_count": 47,
     "metadata": {},
     "output_type": "execute_result"
    }
   ],
   "source": [
    "train_dataset['text']=train_dataset['text'].apply(lambda x:\" \".join(x for x in x.split() if x not in sw))\n",
    "train_dataset['text'].head()"
   ]
  },
  {
   "cell_type": "code",
   "execution_count": 48,
   "id": "e5e513d4-13ef-4a73-a69c-b506b1a7fd04",
   "metadata": {},
   "outputs": [
    {
     "data": {
      "text/plain": [
       "0    radiation%emergency\n",
       "1    radiation%emergency\n",
       "2    radiation%emergency\n",
       "3    radiation%emergency\n",
       "4    radiation%emergency\n",
       "Name: keyword, dtype: object"
      ]
     },
     "execution_count": 48,
     "metadata": {},
     "output_type": "execute_result"
    }
   ],
   "source": [
    "train_dataset['keyword']=train_dataset['keyword'].apply(lambda x:\" \".join(x for x in x.split() if x not in sw))\n",
    "train_dataset['keyword'].head()"
   ]
  },
  {
   "cell_type": "code",
   "execution_count": 49,
   "id": "529dd342-f7d4-42be-ada1-072f4d5e3bbb",
   "metadata": {},
   "outputs": [],
   "source": [
    "## Stemming technique"
   ]
  },
  {
   "cell_type": "code",
   "execution_count": 50,
   "id": "5b4ef66f-76da-4403-a94f-207b50bc3b03",
   "metadata": {},
   "outputs": [],
   "source": [
    "from nltk.stem import PorterStemmer\n",
    "ps=PorterStemmer()"
   ]
  },
  {
   "cell_type": "code",
   "execution_count": 51,
   "id": "abe04b8d-834f-4623-b78b-138af3e8481c",
   "metadata": {},
   "outputs": [
    {
     "data": {
      "text/plain": [
       "0            deed reason earthquak may allah forgiv us\n",
       "1                 forest fire near la rong sask canada\n",
       "2    resid ask shelter place notifi offic evacu she...\n",
       "3          peopl receiv wildfir evacu order california\n",
       "4    got sent photo rubi alaska smoke wildfir pour ...\n",
       "Name: text, dtype: object"
      ]
     },
     "execution_count": 51,
     "metadata": {},
     "output_type": "execute_result"
    }
   ],
   "source": [
    "train_dataset['text']=train_dataset['text'].apply(lambda x:\" \".join(ps.stem(x) for x in x.split()))\n",
    "train_dataset['text'].head()"
   ]
  },
  {
   "cell_type": "code",
   "execution_count": 52,
   "id": "35d029ac-6111-432d-8bd3-8ac8446bc4db",
   "metadata": {},
   "outputs": [
    {
     "data": {
      "text/plain": [
       "0    radiation%emerg\n",
       "1    radiation%emerg\n",
       "2    radiation%emerg\n",
       "3    radiation%emerg\n",
       "4    radiation%emerg\n",
       "Name: keyword, dtype: object"
      ]
     },
     "execution_count": 52,
     "metadata": {},
     "output_type": "execute_result"
    }
   ],
   "source": [
    "train_dataset['keyword']=train_dataset['keyword'].apply(lambda x:\" \".join(ps.stem(x) for x in x.split()))\n",
    "train_dataset['keyword'].head()"
   ]
  },
  {
   "cell_type": "code",
   "execution_count": 53,
   "id": "02b7fbba-a4bd-4dc4-a2bd-f14557d7908d",
   "metadata": {},
   "outputs": [],
   "source": [
    "## print the training dataset"
   ]
  },
  {
   "cell_type": "code",
   "execution_count": 54,
   "id": "b5efe8f5-0c32-48d0-8150-341ab5671609",
   "metadata": {},
   "outputs": [
    {
     "data": {
      "text/html": [
       "<div>\n",
       "<style scoped>\n",
       "    .dataframe tbody tr th:only-of-type {\n",
       "        vertical-align: middle;\n",
       "    }\n",
       "\n",
       "    .dataframe tbody tr th {\n",
       "        vertical-align: top;\n",
       "    }\n",
       "\n",
       "    .dataframe thead th {\n",
       "        text-align: right;\n",
       "    }\n",
       "</style>\n",
       "<table border=\"1\" class=\"dataframe\">\n",
       "  <thead>\n",
       "    <tr style=\"text-align: right;\">\n",
       "      <th></th>\n",
       "      <th>id</th>\n",
       "      <th>keyword</th>\n",
       "      <th>location</th>\n",
       "      <th>text</th>\n",
       "      <th>target</th>\n",
       "    </tr>\n",
       "  </thead>\n",
       "  <tbody>\n",
       "    <tr>\n",
       "      <th>0</th>\n",
       "      <td>1</td>\n",
       "      <td>radiation%emerg</td>\n",
       "      <td>canada</td>\n",
       "      <td>deed reason earthquak may allah forgiv us</td>\n",
       "      <td>1</td>\n",
       "    </tr>\n",
       "    <tr>\n",
       "      <th>1</th>\n",
       "      <td>4</td>\n",
       "      <td>radiation%emerg</td>\n",
       "      <td>canada</td>\n",
       "      <td>forest fire near la rong sask canada</td>\n",
       "      <td>1</td>\n",
       "    </tr>\n",
       "    <tr>\n",
       "      <th>2</th>\n",
       "      <td>5</td>\n",
       "      <td>radiation%emerg</td>\n",
       "      <td>canada</td>\n",
       "      <td>resid ask shelter place notifi offic evacu she...</td>\n",
       "      <td>1</td>\n",
       "    </tr>\n",
       "    <tr>\n",
       "      <th>3</th>\n",
       "      <td>6</td>\n",
       "      <td>radiation%emerg</td>\n",
       "      <td>canada</td>\n",
       "      <td>peopl receiv wildfir evacu order california</td>\n",
       "      <td>1</td>\n",
       "    </tr>\n",
       "    <tr>\n",
       "      <th>4</th>\n",
       "      <td>7</td>\n",
       "      <td>radiation%emerg</td>\n",
       "      <td>canada</td>\n",
       "      <td>got sent photo rubi alaska smoke wildfir pour ...</td>\n",
       "      <td>1</td>\n",
       "    </tr>\n",
       "  </tbody>\n",
       "</table>\n",
       "</div>"
      ],
      "text/plain": [
       "   id          keyword location  \\\n",
       "0   1  radiation%emerg   canada   \n",
       "1   4  radiation%emerg   canada   \n",
       "2   5  radiation%emerg   canada   \n",
       "3   6  radiation%emerg   canada   \n",
       "4   7  radiation%emerg   canada   \n",
       "\n",
       "                                                text  target  \n",
       "0          deed reason earthquak may allah forgiv us       1  \n",
       "1               forest fire near la rong sask canada       1  \n",
       "2  resid ask shelter place notifi offic evacu she...       1  \n",
       "3        peopl receiv wildfir evacu order california       1  \n",
       "4  got sent photo rubi alaska smoke wildfir pour ...       1  "
      ]
     },
     "execution_count": 54,
     "metadata": {},
     "output_type": "execute_result"
    }
   ],
   "source": [
    "train_dataset.head()"
   ]
  },
  {
   "cell_type": "code",
   "execution_count": 55,
   "id": "84c09eee-571e-4491-a382-31f23507c0d7",
   "metadata": {},
   "outputs": [],
   "source": [
    "## Building the vocabulary"
   ]
  },
  {
   "cell_type": "code",
   "execution_count": 56,
   "id": "646575b2-2dc4-4ee6-a607-cd47cd413290",
   "metadata": {},
   "outputs": [],
   "source": [
    "from collections import Counter\n",
    "vocab_train=Counter()"
   ]
  },
  {
   "cell_type": "code",
   "execution_count": 57,
   "id": "bf93a165-9802-41c5-aca6-1d6c3c837c26",
   "metadata": {},
   "outputs": [
    {
     "data": {
      "text/plain": [
       "Counter()"
      ]
     },
     "execution_count": 57,
     "metadata": {},
     "output_type": "execute_result"
    }
   ],
   "source": [
    "vocab_train"
   ]
  },
  {
   "cell_type": "code",
   "execution_count": 58,
   "id": "61219255-57f8-406d-a6b1-6737823a1cc0",
   "metadata": {},
   "outputs": [],
   "source": [
    "for sentence in train_dataset['text']:\n",
    "    vocab_train.update(sentence.split())"
   ]
  },
  {
   "cell_type": "code",
   "execution_count": 59,
   "id": "4382a943-30a7-4cea-8cf3-380f4d462040",
   "metadata": {},
   "outputs": [
    {
     "data": {
      "text/plain": [
       "13733"
      ]
     },
     "execution_count": 59,
     "metadata": {},
     "output_type": "execute_result"
    }
   ],
   "source": [
    "len(vocab_train)"
   ]
  },
  {
   "cell_type": "code",
   "execution_count": 60,
   "id": "894a2702-834f-4f11-8d69-6dd1e520d656",
   "metadata": {},
   "outputs": [],
   "source": [
    "for words in train_dataset['keyword']:\n",
    "    vocab_train.update(words.split())"
   ]
  },
  {
   "cell_type": "code",
   "execution_count": 61,
   "id": "cb1a24dd-7e16-4e92-802b-965a92d91672",
   "metadata": {},
   "outputs": [
    {
     "data": {
      "text/plain": [
       "13764"
      ]
     },
     "execution_count": 61,
     "metadata": {},
     "output_type": "execute_result"
    }
   ],
   "source": [
    "len(vocab_train)"
   ]
  },
  {
   "cell_type": "code",
   "execution_count": 62,
   "id": "0d75de53-297e-4844-9a59-9a763817d619",
   "metadata": {},
   "outputs": [
    {
     "data": {
      "text/plain": [
       "13764"
      ]
     },
     "execution_count": 62,
     "metadata": {},
     "output_type": "execute_result"
    }
   ],
   "source": [
    "len(vocab_train)"
   ]
  },
  {
   "cell_type": "code",
   "execution_count": 63,
   "id": "e2ec5630-dd2e-4059-b6b8-66c57d163502",
   "metadata": {},
   "outputs": [],
   "source": [
    "#tokens = [key for key in vocab if vocab[key]>10 and vocab[key]<75]"
   ]
  },
  {
   "cell_type": "code",
   "execution_count": 64,
   "id": "7a952be7-5fde-40d7-9842-f23e1d9c7a96",
   "metadata": {},
   "outputs": [],
   "source": [
    "#len(tokens)"
   ]
  },
  {
   "cell_type": "code",
   "execution_count": 65,
   "id": "1f537ba7-a71d-4128-87f3-26c358fb025d",
   "metadata": {},
   "outputs": [],
   "source": [
    "## save the vocabulary"
   ]
  },
  {
   "cell_type": "code",
   "execution_count": 66,
   "id": "898718e5-fbbf-4887-8706-ff2af13507d2",
   "metadata": {},
   "outputs": [],
   "source": [
    "def save_vocabulary(lines, file_path):\n",
    "    data = '\\n'.join(lines)\n",
    "    file=open(file_path, 'w', encoding=\"utf-8\")\n",
    "    file.write(data)\n",
    "    file.close()\n",
    "save_vocabulary(vocab_train, \"./static/model/vocabulary.txt\")"
   ]
  },
  {
   "cell_type": "code",
   "execution_count": 67,
   "id": "d9b4b571-b254-493c-91a5-b1d0283777de",
   "metadata": {},
   "outputs": [],
   "source": [
    "## Divide the dataset "
   ]
  },
  {
   "cell_type": "code",
   "execution_count": 68,
   "id": "a7d6334e-195a-4dc4-854e-8848345a8e4d",
   "metadata": {},
   "outputs": [],
   "source": [
    "x=train_dataset.drop('target', axis=1)"
   ]
  },
  {
   "cell_type": "code",
   "execution_count": 69,
   "id": "8a1bf172-531b-4d6f-a2b7-224771891870",
   "metadata": {},
   "outputs": [],
   "source": [
    "x=train_dataset.drop({'id','target'},axis=1)"
   ]
  },
  {
   "cell_type": "code",
   "execution_count": 70,
   "id": "5d092b62-8a26-48e1-82da-54a2ab3c40e9",
   "metadata": {},
   "outputs": [
    {
     "data": {
      "text/html": [
       "<div>\n",
       "<style scoped>\n",
       "    .dataframe tbody tr th:only-of-type {\n",
       "        vertical-align: middle;\n",
       "    }\n",
       "\n",
       "    .dataframe tbody tr th {\n",
       "        vertical-align: top;\n",
       "    }\n",
       "\n",
       "    .dataframe thead th {\n",
       "        text-align: right;\n",
       "    }\n",
       "</style>\n",
       "<table border=\"1\" class=\"dataframe\">\n",
       "  <thead>\n",
       "    <tr style=\"text-align: right;\">\n",
       "      <th></th>\n",
       "      <th>keyword</th>\n",
       "      <th>location</th>\n",
       "      <th>text</th>\n",
       "    </tr>\n",
       "  </thead>\n",
       "  <tbody>\n",
       "    <tr>\n",
       "      <th>0</th>\n",
       "      <td>radiation%emerg</td>\n",
       "      <td>canada</td>\n",
       "      <td>deed reason earthquak may allah forgiv us</td>\n",
       "    </tr>\n",
       "    <tr>\n",
       "      <th>1</th>\n",
       "      <td>radiation%emerg</td>\n",
       "      <td>canada</td>\n",
       "      <td>forest fire near la rong sask canada</td>\n",
       "    </tr>\n",
       "    <tr>\n",
       "      <th>2</th>\n",
       "      <td>radiation%emerg</td>\n",
       "      <td>canada</td>\n",
       "      <td>resid ask shelter place notifi offic evacu she...</td>\n",
       "    </tr>\n",
       "    <tr>\n",
       "      <th>3</th>\n",
       "      <td>radiation%emerg</td>\n",
       "      <td>canada</td>\n",
       "      <td>peopl receiv wildfir evacu order california</td>\n",
       "    </tr>\n",
       "    <tr>\n",
       "      <th>4</th>\n",
       "      <td>radiation%emerg</td>\n",
       "      <td>canada</td>\n",
       "      <td>got sent photo rubi alaska smoke wildfir pour ...</td>\n",
       "    </tr>\n",
       "    <tr>\n",
       "      <th>...</th>\n",
       "      <td>...</td>\n",
       "      <td>...</td>\n",
       "      <td>...</td>\n",
       "    </tr>\n",
       "    <tr>\n",
       "      <th>7608</th>\n",
       "      <td>radiation%emerg</td>\n",
       "      <td>canada</td>\n",
       "      <td>two giant crane hold bridg collaps nearbi home</td>\n",
       "    </tr>\n",
       "    <tr>\n",
       "      <th>7609</th>\n",
       "      <td>radiation%emerg</td>\n",
       "      <td>canada</td>\n",
       "      <td>ariaahrari thetawniest control wild fire calif...</td>\n",
       "    </tr>\n",
       "    <tr>\n",
       "      <th>7610</th>\n",
       "      <td>radiation%emerg</td>\n",
       "      <td>canada</td>\n",
       "      <td>utckm volcano hawaii</td>\n",
       "    </tr>\n",
       "    <tr>\n",
       "      <th>7611</th>\n",
       "      <td>radiation%emerg</td>\n",
       "      <td>canada</td>\n",
       "      <td>polic investig ebik collid car littl portug eb...</td>\n",
       "    </tr>\n",
       "    <tr>\n",
       "      <th>7612</th>\n",
       "      <td>radiation%emerg</td>\n",
       "      <td>canada</td>\n",
       "      <td>latest home raze northern california wildfir a...</td>\n",
       "    </tr>\n",
       "  </tbody>\n",
       "</table>\n",
       "<p>7613 rows × 3 columns</p>\n",
       "</div>"
      ],
      "text/plain": [
       "              keyword location  \\\n",
       "0     radiation%emerg   canada   \n",
       "1     radiation%emerg   canada   \n",
       "2     radiation%emerg   canada   \n",
       "3     radiation%emerg   canada   \n",
       "4     radiation%emerg   canada   \n",
       "...               ...      ...   \n",
       "7608  radiation%emerg   canada   \n",
       "7609  radiation%emerg   canada   \n",
       "7610  radiation%emerg   canada   \n",
       "7611  radiation%emerg   canada   \n",
       "7612  radiation%emerg   canada   \n",
       "\n",
       "                                                   text  \n",
       "0             deed reason earthquak may allah forgiv us  \n",
       "1                  forest fire near la rong sask canada  \n",
       "2     resid ask shelter place notifi offic evacu she...  \n",
       "3           peopl receiv wildfir evacu order california  \n",
       "4     got sent photo rubi alaska smoke wildfir pour ...  \n",
       "...                                                 ...  \n",
       "7608     two giant crane hold bridg collaps nearbi home  \n",
       "7609  ariaahrari thetawniest control wild fire calif...  \n",
       "7610                               utckm volcano hawaii  \n",
       "7611  polic investig ebik collid car littl portug eb...  \n",
       "7612  latest home raze northern california wildfir a...  \n",
       "\n",
       "[7613 rows x 3 columns]"
      ]
     },
     "execution_count": 70,
     "metadata": {},
     "output_type": "execute_result"
    }
   ],
   "source": [
    "x"
   ]
  },
  {
   "cell_type": "code",
   "execution_count": 71,
   "id": "3e88616e-53f5-46f0-8e3e-35dadacfa613",
   "metadata": {},
   "outputs": [],
   "source": [
    "y=train_dataset['target']"
   ]
  },
  {
   "cell_type": "code",
   "execution_count": 72,
   "id": "85b7bb98-7c7c-48fe-96dd-5b40d168c8ac",
   "metadata": {},
   "outputs": [
    {
     "data": {
      "text/plain": [
       "0       1\n",
       "1       1\n",
       "2       1\n",
       "3       1\n",
       "4       1\n",
       "       ..\n",
       "7608    1\n",
       "7609    1\n",
       "7610    1\n",
       "7611    1\n",
       "7612    1\n",
       "Name: target, Length: 7613, dtype: int64"
      ]
     },
     "execution_count": 72,
     "metadata": {},
     "output_type": "execute_result"
    }
   ],
   "source": [
    "y"
   ]
  },
  {
   "cell_type": "code",
   "execution_count": 73,
   "id": "a1ec6103-b536-411a-adf7-628b1d5e48b7",
   "metadata": {},
   "outputs": [],
   "source": [
    "from sklearn.model_selection import train_test_split\n",
    "x_train,x_test,y_train,y_test=train_test_split(x,y,test_size=0.2, random_state=42)"
   ]
  },
  {
   "cell_type": "code",
   "execution_count": 74,
   "id": "19badf05-3d6d-41fb-95ee-837169f00e6c",
   "metadata": {},
   "outputs": [
    {
     "data": {
      "text/plain": [
       "(6090, 3)"
      ]
     },
     "execution_count": 74,
     "metadata": {},
     "output_type": "execute_result"
    }
   ],
   "source": [
    "x_train.shape"
   ]
  },
  {
   "cell_type": "code",
   "execution_count": 75,
   "id": "71d9f32a-ea4b-4a1f-924f-e99cd1e63853",
   "metadata": {},
   "outputs": [
    {
     "data": {
      "text/plain": [
       "(6090,)"
      ]
     },
     "execution_count": 75,
     "metadata": {},
     "output_type": "execute_result"
    }
   ],
   "source": [
    "y_train.shape"
   ]
  },
  {
   "cell_type": "code",
   "execution_count": 76,
   "id": "e019218c-3fd9-4b3d-90f9-978e30022510",
   "metadata": {},
   "outputs": [
    {
     "data": {
      "text/plain": [
       "(1523, 3)"
      ]
     },
     "execution_count": 76,
     "metadata": {},
     "output_type": "execute_result"
    }
   ],
   "source": [
    "x_test.shape"
   ]
  },
  {
   "cell_type": "code",
   "execution_count": 77,
   "id": "6b8371a0-0104-4d53-9e07-ab7afde509f4",
   "metadata": {},
   "outputs": [
    {
     "data": {
      "text/html": [
       "<div>\n",
       "<style scoped>\n",
       "    .dataframe tbody tr th:only-of-type {\n",
       "        vertical-align: middle;\n",
       "    }\n",
       "\n",
       "    .dataframe tbody tr th {\n",
       "        vertical-align: top;\n",
       "    }\n",
       "\n",
       "    .dataframe thead th {\n",
       "        text-align: right;\n",
       "    }\n",
       "</style>\n",
       "<table border=\"1\" class=\"dataframe\">\n",
       "  <thead>\n",
       "    <tr style=\"text-align: right;\">\n",
       "      <th></th>\n",
       "      <th>keyword</th>\n",
       "      <th>location</th>\n",
       "      <th>text</th>\n",
       "    </tr>\n",
       "  </thead>\n",
       "  <tbody>\n",
       "    <tr>\n",
       "      <th>2644</th>\n",
       "      <td>destruct</td>\n",
       "      <td>canada</td>\n",
       "      <td>new weapon caus unimagin destruct</td>\n",
       "    </tr>\n",
       "    <tr>\n",
       "      <th>2227</th>\n",
       "      <td>delug</td>\n",
       "      <td>canada</td>\n",
       "      <td>famp thing gishwh got soak delug go pad tampon...</td>\n",
       "    </tr>\n",
       "    <tr>\n",
       "      <th>5448</th>\n",
       "      <td>polic</td>\n",
       "      <td>uk</td>\n",
       "      <td>dt georgegalloway rt gallowaymayor col polic c...</td>\n",
       "    </tr>\n",
       "    <tr>\n",
       "      <th>132</th>\n",
       "      <td>aftershock</td>\n",
       "      <td>canada</td>\n",
       "      <td>aftershock back school kick great want thank e...</td>\n",
       "    </tr>\n",
       "    <tr>\n",
       "      <th>6845</th>\n",
       "      <td>trauma</td>\n",
       "      <td>montgomery county, md</td>\n",
       "      <td>respons trauma children addict develop defens ...</td>\n",
       "    </tr>\n",
       "  </tbody>\n",
       "</table>\n",
       "</div>"
      ],
      "text/plain": [
       "         keyword               location  \\\n",
       "2644    destruct                 canada   \n",
       "2227       delug                 canada   \n",
       "5448       polic                     uk   \n",
       "132   aftershock                 canada   \n",
       "6845      trauma  montgomery county, md   \n",
       "\n",
       "                                                   text  \n",
       "2644                  new weapon caus unimagin destruct  \n",
       "2227  famp thing gishwh got soak delug go pad tampon...  \n",
       "5448  dt georgegalloway rt gallowaymayor col polic c...  \n",
       "132   aftershock back school kick great want thank e...  \n",
       "6845  respons trauma children addict develop defens ...  "
      ]
     },
     "execution_count": 77,
     "metadata": {},
     "output_type": "execute_result"
    }
   ],
   "source": [
    "x_test.head()"
   ]
  },
  {
   "cell_type": "code",
   "execution_count": 78,
   "id": "a20fcb5a-8154-445f-9355-166b8321c4a9",
   "metadata": {},
   "outputs": [],
   "source": [
    "## combined the x_train columns text, location, Keyword columns"
   ]
  },
  {
   "cell_type": "code",
   "execution_count": 79,
   "id": "62c6a05f-6e50-4f5c-90fe-016da693a895",
   "metadata": {},
   "outputs": [
    {
     "data": {
      "text/plain": [
       "4996    militari texas courag honest analysi need use ...\n",
       "3263    engulf canada zachzaidman thescor wld b shame ...\n",
       "4907    massacr cottonwood arizona tell barackobama re...\n",
       "2855    drought spokane, wa worri ca drought might aff...\n",
       "4716    lava medan,indonesia youngheroesid lava blast ...\n",
       "                              ...                        \n",
       "5226    obliter merica! egan arent mani obliter server...\n",
       "5390    panic canada panic attack bc dont enough money...\n",
       "860     blood canada omron hemc automat blood pressur ...\n",
       "7603    radiation%emerg canada offici say quarantin pl...\n",
       "7270    whirlwind stamford & cork (& shropshire) move ...\n",
       "Length: 6090, dtype: object"
      ]
     },
     "execution_count": 79,
     "metadata": {},
     "output_type": "execute_result"
    }
   ],
   "source": [
    "combined_pd_x_train = x_train['keyword']+\" \"+x_train['location']+\" \"+x_train['text']\n",
    "combined_pd_x_train"
   ]
  },
  {
   "cell_type": "code",
   "execution_count": 80,
   "id": "29944448-4ba3-4b05-bdc9-a746b17149dd",
   "metadata": {},
   "outputs": [],
   "source": [
    "## combined the x_test columns text, location, keywords columns"
   ]
  },
  {
   "cell_type": "code",
   "execution_count": 81,
   "id": "14854bcd-4907-4a2f-a491-d4cebb0c4a65",
   "metadata": {},
   "outputs": [
    {
     "data": {
      "text/plain": [
       "2644    destruct canada new weapon caus unimagin destruct\n",
       "2227    delug canada famp thing gishwh got soak delug ...\n",
       "5448    polic uk dt georgegalloway rt gallowaymayor co...\n",
       "132     aftershock canada aftershock back school kick ...\n",
       "6845    trauma montgomery county, md respons trauma ch...\n",
       "                              ...                        \n",
       "1835             crash somewhere smusx skype crash u host\n",
       "506     attack arundel christian attack muslim templ m...\n",
       "3592    fatal new south wales, australia man charg fat...\n",
       "6740    thunderstorm canada usnwsgov sever weather sta...\n",
       "1634    collaps canada great british ltbgtbakeltbgt of...\n",
       "Length: 1523, dtype: object"
      ]
     },
     "execution_count": 81,
     "metadata": {},
     "output_type": "execute_result"
    }
   ],
   "source": [
    "combined_pd_x_test=x_test['keyword']+\" \"+x_test['location']+\" \"+x_test['text']\n",
    "combined_pd_x_test"
   ]
  },
  {
   "cell_type": "code",
   "execution_count": 82,
   "id": "13f2148a-1590-4624-a571-0bbac3a7f91e",
   "metadata": {},
   "outputs": [],
   "source": [
    "## Conver the text into  numerical values"
   ]
  },
  {
   "cell_type": "code",
   "execution_count": 83,
   "id": "48ae7225-61b0-486d-aaa7-de0f333ed66d",
   "metadata": {},
   "outputs": [],
   "source": [
    "import numpy as np\n",
    "\n",
    "def vectorizer(ds, vocabulary):\n",
    "    vectorizer_list = []\n",
    "    vocab_set=set(vocabulary)\n",
    "    for sentence in ds:\n",
    "        sentence_list = np.zeros(len(vocabulary), dtype=np.float16)  # Create a zero array for each sentence\n",
    "        sentence_words = set(sentence.split())  # Convert the sentence into a set of words\n",
    "        \n",
    "        for i, word in enumerate(vocabulary):  # Iterate over the vocabulary (list, ordered)\n",
    "            if word in sentence_words:  # Check if the word exists in the sentence\n",
    "                sentence_list[i] = 1  # Set the corresponding index to 1\n",
    "                \n",
    "        vectorizer_list.append(sentence_list)\n",
    "    \n",
    "    # Convert the list of arrays to a numpy array\n",
    "    vectorizer_list_new = np.asarray(vectorizer_list, dtype=np.float16)\n",
    "    \n",
    "    return vectorizer_list_new\n"
   ]
  },
  {
   "cell_type": "code",
   "execution_count": 84,
   "id": "832b98a0-0ac6-4eb4-a9ee-c3c37f1e7f79",
   "metadata": {},
   "outputs": [
    {
     "data": {
      "text/plain": [
       "array([[0., 0., 0., ..., 0., 0., 0.],\n",
       "       [0., 0., 0., ..., 0., 0., 0.],\n",
       "       [0., 0., 0., ..., 0., 0., 0.],\n",
       "       ...,\n",
       "       [0., 0., 0., ..., 0., 0., 0.],\n",
       "       [0., 0., 0., ..., 0., 0., 0.],\n",
       "       [0., 0., 0., ..., 0., 0., 0.]], dtype=float16)"
      ]
     },
     "execution_count": 84,
     "metadata": {},
     "output_type": "execute_result"
    }
   ],
   "source": [
    "vectorizer_x_train= vectorizer(combined_pd_x_train,vocab_train)\n",
    "vectorizer_x_train"
   ]
  },
  {
   "cell_type": "code",
   "execution_count": 85,
   "id": "1e8a8ba6-fad7-4194-a04d-872214bb7405",
   "metadata": {},
   "outputs": [
    {
     "data": {
      "text/plain": [
       "array([[0., 0., 0., ..., 0., 0., 0.],\n",
       "       [0., 0., 0., ..., 0., 0., 0.],\n",
       "       [0., 0., 0., ..., 0., 0., 0.],\n",
       "       ...,\n",
       "       [0., 0., 0., ..., 0., 0., 0.],\n",
       "       [0., 0., 0., ..., 0., 0., 0.],\n",
       "       [0., 0., 0., ..., 0., 0., 0.]], dtype=float16)"
      ]
     },
     "execution_count": 85,
     "metadata": {},
     "output_type": "execute_result"
    }
   ],
   "source": [
    "vectorizer_x_test=vectorizer(combined_pd_x_test,vocab_train)\n",
    "vectorizer_x_test"
   ]
  },
  {
   "cell_type": "code",
   "execution_count": 86,
   "id": "77eff753-0854-486c-b29f-503b33e5a7cb",
   "metadata": {},
   "outputs": [],
   "source": [
    "## Check the vlue of counts of y train"
   ]
  },
  {
   "cell_type": "code",
   "execution_count": 87,
   "id": "730e2dfb-e999-469b-8864-dc09ebb29fa8",
   "metadata": {},
   "outputs": [
    {
     "data": {
      "text/plain": [
       "target\n",
       "0    3468\n",
       "1    2622\n",
       "Name: count, dtype: int64"
      ]
     },
     "execution_count": 87,
     "metadata": {},
     "output_type": "execute_result"
    }
   ],
   "source": [
    "y_train.value_counts()"
   ]
  },
  {
   "cell_type": "code",
   "execution_count": 88,
   "id": "b06757ea-98f0-4df6-8d53-e945fe1f1bc1",
   "metadata": {},
   "outputs": [
    {
     "data": {
      "text/plain": [
       "(6090, 13764)"
      ]
     },
     "execution_count": 88,
     "metadata": {},
     "output_type": "execute_result"
    }
   ],
   "source": [
    "vectorizer_x_train.shape"
   ]
  },
  {
   "cell_type": "code",
   "execution_count": 89,
   "id": "05d79d4b-49bd-45cd-b8a3-779b710b5a7c",
   "metadata": {},
   "outputs": [
    {
     "data": {
      "text/plain": [
       "(6090,)"
      ]
     },
     "execution_count": 89,
     "metadata": {},
     "output_type": "execute_result"
    }
   ],
   "source": [
    "y_train.shape"
   ]
  },
  {
   "cell_type": "code",
   "execution_count": 90,
   "id": "fd557e1c-0d23-40a0-9c41-ef34e828f2e0",
   "metadata": {},
   "outputs": [
    {
     "data": {
      "text/plain": [
       "(1523, 13764)"
      ]
     },
     "execution_count": 90,
     "metadata": {},
     "output_type": "execute_result"
    }
   ],
   "source": [
    "vectorizer_x_test.shape"
   ]
  },
  {
   "cell_type": "code",
   "execution_count": 91,
   "id": "600a20af-6827-40ee-8e7d-9ee582fcd1f7",
   "metadata": {},
   "outputs": [],
   "source": [
    "## fix the imbalance data issue"
   ]
  },
  {
   "cell_type": "code",
   "execution_count": 92,
   "id": "fdb5fbe0-0c51-466b-8af1-ac4b9ab18e82",
   "metadata": {},
   "outputs": [
    {
     "data": {
      "text/plain": [
       "target\n",
       "0    3468\n",
       "1    2622\n",
       "Name: count, dtype: int64"
      ]
     },
     "execution_count": 92,
     "metadata": {},
     "output_type": "execute_result"
    }
   ],
   "source": [
    "y_train.value_counts()"
   ]
  },
  {
   "cell_type": "code",
   "execution_count": 93,
   "id": "81b6a5bd-7c58-4d38-9a1e-ba985e1e663a",
   "metadata": {},
   "outputs": [
    {
     "name": "stdout",
     "output_type": "stream",
     "text": [
      "(6936, 13764) (6936,)\n"
     ]
    }
   ],
   "source": [
    "from imblearn.over_sampling import SMOTE\n",
    "\n",
    "smote=SMOTE()\n",
    "vectorized_x_train_smote , y_train_smote = smote.fit_resample(vectorizer_x_train,y_train)\n",
    "print(vectorized_x_train_smote.shape, y_train_smote.shape)"
   ]
  },
  {
   "cell_type": "markdown",
   "id": "5a7724a1-b831-4378-ba8f-85f8f2384281",
   "metadata": {},
   "source": [
    "##  Model Selectiona And Model Training"
   ]
  },
  {
   "cell_type": "code",
   "execution_count": 94,
   "id": "5498a60f-cc95-4a45-b906-b7c632131641",
   "metadata": {},
   "outputs": [],
   "source": [
    "from sklearn.linear_model import LogisticRegression\n",
    "from sklearn.tree import DecisionTreeClassifier\n",
    "from sklearn.ensemble import RandomForestClassifier\n",
    "from sklearn.svm import SVC\n",
    "from sklearn.metrics import accuracy_score, classification_report"
   ]
  },
  {
   "cell_type": "code",
   "execution_count": 95,
   "id": "4d08ca6d-7010-4e51-b4e9-d2c77ae4d2b8",
   "metadata": {},
   "outputs": [],
   "source": [
    "## logistci regression model"
   ]
  },
  {
   "cell_type": "code",
   "execution_count": 96,
   "id": "57923211-e5f2-456f-9275-2a713f1db05a",
   "metadata": {},
   "outputs": [
    {
     "data": {
      "text/html": [
       "<style>#sk-container-id-1 {color: black;}#sk-container-id-1 pre{padding: 0;}#sk-container-id-1 div.sk-toggleable {background-color: white;}#sk-container-id-1 label.sk-toggleable__label {cursor: pointer;display: block;width: 100%;margin-bottom: 0;padding: 0.3em;box-sizing: border-box;text-align: center;}#sk-container-id-1 label.sk-toggleable__label-arrow:before {content: \"▸\";float: left;margin-right: 0.25em;color: #696969;}#sk-container-id-1 label.sk-toggleable__label-arrow:hover:before {color: black;}#sk-container-id-1 div.sk-estimator:hover label.sk-toggleable__label-arrow:before {color: black;}#sk-container-id-1 div.sk-toggleable__content {max-height: 0;max-width: 0;overflow: hidden;text-align: left;background-color: #f0f8ff;}#sk-container-id-1 div.sk-toggleable__content pre {margin: 0.2em;color: black;border-radius: 0.25em;background-color: #f0f8ff;}#sk-container-id-1 input.sk-toggleable__control:checked~div.sk-toggleable__content {max-height: 200px;max-width: 100%;overflow: auto;}#sk-container-id-1 input.sk-toggleable__control:checked~label.sk-toggleable__label-arrow:before {content: \"▾\";}#sk-container-id-1 div.sk-estimator input.sk-toggleable__control:checked~label.sk-toggleable__label {background-color: #d4ebff;}#sk-container-id-1 div.sk-label input.sk-toggleable__control:checked~label.sk-toggleable__label {background-color: #d4ebff;}#sk-container-id-1 input.sk-hidden--visually {border: 0;clip: rect(1px 1px 1px 1px);clip: rect(1px, 1px, 1px, 1px);height: 1px;margin: -1px;overflow: hidden;padding: 0;position: absolute;width: 1px;}#sk-container-id-1 div.sk-estimator {font-family: monospace;background-color: #f0f8ff;border: 1px dotted black;border-radius: 0.25em;box-sizing: border-box;margin-bottom: 0.5em;}#sk-container-id-1 div.sk-estimator:hover {background-color: #d4ebff;}#sk-container-id-1 div.sk-parallel-item::after {content: \"\";width: 100%;border-bottom: 1px solid gray;flex-grow: 1;}#sk-container-id-1 div.sk-label:hover label.sk-toggleable__label {background-color: #d4ebff;}#sk-container-id-1 div.sk-serial::before {content: \"\";position: absolute;border-left: 1px solid gray;box-sizing: border-box;top: 0;bottom: 0;left: 50%;z-index: 0;}#sk-container-id-1 div.sk-serial {display: flex;flex-direction: column;align-items: center;background-color: white;padding-right: 0.2em;padding-left: 0.2em;position: relative;}#sk-container-id-1 div.sk-item {position: relative;z-index: 1;}#sk-container-id-1 div.sk-parallel {display: flex;align-items: stretch;justify-content: center;background-color: white;position: relative;}#sk-container-id-1 div.sk-item::before, #sk-container-id-1 div.sk-parallel-item::before {content: \"\";position: absolute;border-left: 1px solid gray;box-sizing: border-box;top: 0;bottom: 0;left: 50%;z-index: -1;}#sk-container-id-1 div.sk-parallel-item {display: flex;flex-direction: column;z-index: 1;position: relative;background-color: white;}#sk-container-id-1 div.sk-parallel-item:first-child::after {align-self: flex-end;width: 50%;}#sk-container-id-1 div.sk-parallel-item:last-child::after {align-self: flex-start;width: 50%;}#sk-container-id-1 div.sk-parallel-item:only-child::after {width: 0;}#sk-container-id-1 div.sk-dashed-wrapped {border: 1px dashed gray;margin: 0 0.4em 0.5em 0.4em;box-sizing: border-box;padding-bottom: 0.4em;background-color: white;}#sk-container-id-1 div.sk-label label {font-family: monospace;font-weight: bold;display: inline-block;line-height: 1.2em;}#sk-container-id-1 div.sk-label-container {text-align: center;}#sk-container-id-1 div.sk-container {/* jupyter's `normalize.less` sets `[hidden] { display: none; }` but bootstrap.min.css set `[hidden] { display: none !important; }` so we also need the `!important` here to be able to override the default hidden behavior on the sphinx rendered scikit-learn.org. See: https://github.com/scikit-learn/scikit-learn/issues/21755 */display: inline-block !important;position: relative;}#sk-container-id-1 div.sk-text-repr-fallback {display: none;}</style><div id=\"sk-container-id-1\" class=\"sk-top-container\"><div class=\"sk-text-repr-fallback\"><pre>LogisticRegression(random_state=42)</pre><b>In a Jupyter environment, please rerun this cell to show the HTML representation or trust the notebook. <br />On GitHub, the HTML representation is unable to render, please try loading this page with nbviewer.org.</b></div><div class=\"sk-container\" hidden><div class=\"sk-item\"><div class=\"sk-estimator sk-toggleable\"><input class=\"sk-toggleable__control sk-hidden--visually\" id=\"sk-estimator-id-1\" type=\"checkbox\" checked><label for=\"sk-estimator-id-1\" class=\"sk-toggleable__label sk-toggleable__label-arrow\">LogisticRegression</label><div class=\"sk-toggleable__content\"><pre>LogisticRegression(random_state=42)</pre></div></div></div></div></div>"
      ],
      "text/plain": [
       "LogisticRegression(random_state=42)"
      ]
     },
     "execution_count": 96,
     "metadata": {},
     "output_type": "execute_result"
    }
   ],
   "source": [
    "lr=LogisticRegression(random_state=42)\n",
    "lr.fit(vectorized_x_train_smote,y_train_smote)"
   ]
  },
  {
   "cell_type": "code",
   "execution_count": 97,
   "id": "b0f7923d-8731-4f22-abfe-e6db067688ab",
   "metadata": {},
   "outputs": [
    {
     "data": {
      "text/plain": [
       "array([0, 1, 0, 0, 0, 0, 0, 0, 1], dtype=int64)"
      ]
     },
     "execution_count": 97,
     "metadata": {},
     "output_type": "execute_result"
    }
   ],
   "source": [
    "lr_predictions = lr.predict(vectorizer_x_test)\n",
    "lr_predictions[1:10]"
   ]
  },
  {
   "cell_type": "code",
   "execution_count": 98,
   "id": "fdb22342-86c0-415e-932c-cad359f7e361",
   "metadata": {},
   "outputs": [
    {
     "data": {
      "text/plain": [
       "0.7741300065659882"
      ]
     },
     "execution_count": 98,
     "metadata": {},
     "output_type": "execute_result"
    }
   ],
   "source": [
    "accuracy_score(y_test,lr_predictions)"
   ]
  },
  {
   "cell_type": "code",
   "execution_count": 99,
   "id": "ff161edb-49fa-45d8-b191-6c24d591a85a",
   "metadata": {},
   "outputs": [
    {
     "name": "stdout",
     "output_type": "stream",
     "text": [
      "              precision    recall  f1-score   support\n",
      "\n",
      "           0       0.80      0.80      0.80       874\n",
      "           1       0.73      0.74      0.74       649\n",
      "\n",
      "    accuracy                           0.77      1523\n",
      "   macro avg       0.77      0.77      0.77      1523\n",
      "weighted avg       0.77      0.77      0.77      1523\n",
      "\n"
     ]
    }
   ],
   "source": [
    "print(classification_report(y_test,lr_predictions))"
   ]
  },
  {
   "cell_type": "code",
   "execution_count": 100,
   "id": "1d1fa117-7ee3-4838-844c-602b413364fd",
   "metadata": {},
   "outputs": [],
   "source": [
    "## Cross Validation Score for logistic regression"
   ]
  },
  {
   "cell_type": "code",
   "execution_count": 101,
   "id": "ccbc68de-5591-4f06-9d93-0d0d8d8ecd92",
   "metadata": {},
   "outputs": [
    {
     "name": "stdout",
     "output_type": "stream",
     "text": [
      "Cross-validation scores: [0.81123919 0.78242075 0.82853026 0.81412104 0.8054755  0.79827089\n",
      " 0.8023088  0.83982684 0.89321789 0.88311688]\n",
      "Average cross-validation score: 0.8258528055358028\n"
     ]
    }
   ],
   "source": [
    "from sklearn.model_selection import cross_val_score\n",
    "\n",
    "# Perform cross-validation with 5 folds (can be adjusted based on dataset size)\n",
    "cv_scores = cross_val_score(lr,vectorized_x_train_smote, y_train_smote, cv=10)\n",
    "\n",
    "# Print cross-validation scores and their average\n",
    "print(\"Cross-validation scores:\", cv_scores)\n",
    "print(\"Average cross-validation score:\", cv_scores.mean())"
   ]
  },
  {
   "cell_type": "code",
   "execution_count": 102,
   "id": "3a255819-0d65-487b-ae59-e5846df709ee",
   "metadata": {},
   "outputs": [
    {
     "data": {
      "text/html": [
       "<style>#sk-container-id-2 {color: black;}#sk-container-id-2 pre{padding: 0;}#sk-container-id-2 div.sk-toggleable {background-color: white;}#sk-container-id-2 label.sk-toggleable__label {cursor: pointer;display: block;width: 100%;margin-bottom: 0;padding: 0.3em;box-sizing: border-box;text-align: center;}#sk-container-id-2 label.sk-toggleable__label-arrow:before {content: \"▸\";float: left;margin-right: 0.25em;color: #696969;}#sk-container-id-2 label.sk-toggleable__label-arrow:hover:before {color: black;}#sk-container-id-2 div.sk-estimator:hover label.sk-toggleable__label-arrow:before {color: black;}#sk-container-id-2 div.sk-toggleable__content {max-height: 0;max-width: 0;overflow: hidden;text-align: left;background-color: #f0f8ff;}#sk-container-id-2 div.sk-toggleable__content pre {margin: 0.2em;color: black;border-radius: 0.25em;background-color: #f0f8ff;}#sk-container-id-2 input.sk-toggleable__control:checked~div.sk-toggleable__content {max-height: 200px;max-width: 100%;overflow: auto;}#sk-container-id-2 input.sk-toggleable__control:checked~label.sk-toggleable__label-arrow:before {content: \"▾\";}#sk-container-id-2 div.sk-estimator input.sk-toggleable__control:checked~label.sk-toggleable__label {background-color: #d4ebff;}#sk-container-id-2 div.sk-label input.sk-toggleable__control:checked~label.sk-toggleable__label {background-color: #d4ebff;}#sk-container-id-2 input.sk-hidden--visually {border: 0;clip: rect(1px 1px 1px 1px);clip: rect(1px, 1px, 1px, 1px);height: 1px;margin: -1px;overflow: hidden;padding: 0;position: absolute;width: 1px;}#sk-container-id-2 div.sk-estimator {font-family: monospace;background-color: #f0f8ff;border: 1px dotted black;border-radius: 0.25em;box-sizing: border-box;margin-bottom: 0.5em;}#sk-container-id-2 div.sk-estimator:hover {background-color: #d4ebff;}#sk-container-id-2 div.sk-parallel-item::after {content: \"\";width: 100%;border-bottom: 1px solid gray;flex-grow: 1;}#sk-container-id-2 div.sk-label:hover label.sk-toggleable__label {background-color: #d4ebff;}#sk-container-id-2 div.sk-serial::before {content: \"\";position: absolute;border-left: 1px solid gray;box-sizing: border-box;top: 0;bottom: 0;left: 50%;z-index: 0;}#sk-container-id-2 div.sk-serial {display: flex;flex-direction: column;align-items: center;background-color: white;padding-right: 0.2em;padding-left: 0.2em;position: relative;}#sk-container-id-2 div.sk-item {position: relative;z-index: 1;}#sk-container-id-2 div.sk-parallel {display: flex;align-items: stretch;justify-content: center;background-color: white;position: relative;}#sk-container-id-2 div.sk-item::before, #sk-container-id-2 div.sk-parallel-item::before {content: \"\";position: absolute;border-left: 1px solid gray;box-sizing: border-box;top: 0;bottom: 0;left: 50%;z-index: -1;}#sk-container-id-2 div.sk-parallel-item {display: flex;flex-direction: column;z-index: 1;position: relative;background-color: white;}#sk-container-id-2 div.sk-parallel-item:first-child::after {align-self: flex-end;width: 50%;}#sk-container-id-2 div.sk-parallel-item:last-child::after {align-self: flex-start;width: 50%;}#sk-container-id-2 div.sk-parallel-item:only-child::after {width: 0;}#sk-container-id-2 div.sk-dashed-wrapped {border: 1px dashed gray;margin: 0 0.4em 0.5em 0.4em;box-sizing: border-box;padding-bottom: 0.4em;background-color: white;}#sk-container-id-2 div.sk-label label {font-family: monospace;font-weight: bold;display: inline-block;line-height: 1.2em;}#sk-container-id-2 div.sk-label-container {text-align: center;}#sk-container-id-2 div.sk-container {/* jupyter's `normalize.less` sets `[hidden] { display: none; }` but bootstrap.min.css set `[hidden] { display: none !important; }` so we also need the `!important` here to be able to override the default hidden behavior on the sphinx rendered scikit-learn.org. See: https://github.com/scikit-learn/scikit-learn/issues/21755 */display: inline-block !important;position: relative;}#sk-container-id-2 div.sk-text-repr-fallback {display: none;}</style><div id=\"sk-container-id-2\" class=\"sk-top-container\"><div class=\"sk-text-repr-fallback\"><pre>RandomForestClassifier(random_state=42)</pre><b>In a Jupyter environment, please rerun this cell to show the HTML representation or trust the notebook. <br />On GitHub, the HTML representation is unable to render, please try loading this page with nbviewer.org.</b></div><div class=\"sk-container\" hidden><div class=\"sk-item\"><div class=\"sk-estimator sk-toggleable\"><input class=\"sk-toggleable__control sk-hidden--visually\" id=\"sk-estimator-id-2\" type=\"checkbox\" checked><label for=\"sk-estimator-id-2\" class=\"sk-toggleable__label sk-toggleable__label-arrow\">RandomForestClassifier</label><div class=\"sk-toggleable__content\"><pre>RandomForestClassifier(random_state=42)</pre></div></div></div></div></div>"
      ],
      "text/plain": [
       "RandomForestClassifier(random_state=42)"
      ]
     },
     "execution_count": 102,
     "metadata": {},
     "output_type": "execute_result"
    }
   ],
   "source": [
    "rf_clf =RandomForestClassifier(random_state=42)\n",
    "rf_clf.fit(vectorized_x_train_smote,y_train_smote)"
   ]
  },
  {
   "cell_type": "code",
   "execution_count": 103,
   "id": "ad9fac2c-c78c-41e8-a099-dcedbb5a1d20",
   "metadata": {},
   "outputs": [],
   "source": [
    "## Make the predictions based on test set"
   ]
  },
  {
   "cell_type": "code",
   "execution_count": 104,
   "id": "690c3387-9e70-4746-9e20-cc46899b703e",
   "metadata": {},
   "outputs": [
    {
     "data": {
      "text/plain": [
       "array([1, 0, 0, 0, 0, 0, 1, 0, 1, 0, 1, 0, 0, 0, 1, 0, 1, 1, 1, 0, 0, 0,\n",
       "       0, 0, 1, 1, 0, 0, 0, 0, 0, 1, 0, 0, 0, 1, 1, 0, 1, 0, 0, 1, 0, 0,\n",
       "       0, 0, 1, 0, 0, 0, 0, 0, 1, 0, 0, 0, 1, 0, 0, 0, 0, 0, 0, 0, 0, 0,\n",
       "       0, 1, 0, 1, 0, 0, 0, 1, 0, 0, 1, 0, 1, 0, 1, 0, 0, 0, 0, 1, 0, 0,\n",
       "       1, 0], dtype=int64)"
      ]
     },
     "execution_count": 104,
     "metadata": {},
     "output_type": "execute_result"
    }
   ],
   "source": [
    "rf_clf_predictions= rf_clf.predict(vectorizer_x_test)\n",
    "rf_clf_predictions[10:100]"
   ]
  },
  {
   "cell_type": "code",
   "execution_count": 105,
   "id": "4ac3105a-85bb-4f1a-b3b9-1651be857d2e",
   "metadata": {},
   "outputs": [
    {
     "data": {
      "text/plain": [
       "0.7879185817465528"
      ]
     },
     "execution_count": 105,
     "metadata": {},
     "output_type": "execute_result"
    }
   ],
   "source": [
    "accuracy_score(y_test,rf_clf_predictions)"
   ]
  },
  {
   "cell_type": "code",
   "execution_count": 106,
   "id": "3042217d-7d70-408c-b6f6-cd7e6b319ceb",
   "metadata": {},
   "outputs": [
    {
     "name": "stdout",
     "output_type": "stream",
     "text": [
      "              precision    recall  f1-score   support\n",
      "\n",
      "           0       0.79      0.86      0.82       874\n",
      "           1       0.79      0.69      0.73       649\n",
      "\n",
      "    accuracy                           0.79      1523\n",
      "   macro avg       0.79      0.77      0.78      1523\n",
      "weighted avg       0.79      0.79      0.79      1523\n",
      "\n"
     ]
    }
   ],
   "source": [
    "print(classification_report(y_test,rf_clf_predictions))"
   ]
  },
  {
   "cell_type": "code",
   "execution_count": 107,
   "id": "41c6153c-70fd-4f6a-903c-54f09e0c39e5",
   "metadata": {},
   "outputs": [],
   "source": [
    "## Cross validation score for Random Forest Classifier"
   ]
  },
  {
   "cell_type": "code",
   "execution_count": 108,
   "id": "364d9a30-3d78-4ddc-8378-fc67d0ac9d92",
   "metadata": {},
   "outputs": [
    {
     "name": "stdout",
     "output_type": "stream",
     "text": [
      "Cross-validation scores: [0.7795389  0.76368876 0.80115274 0.78386167 0.76657061 0.77089337\n",
      " 0.78787879 0.85137085 0.92929293 0.94372294]\n",
      "Average cross-validation score: 0.8177971564138711\n"
     ]
    }
   ],
   "source": [
    "from sklearn.model_selection import cross_val_score\n",
    "\n",
    "cv_scores =cross_val_score(rf_clf,vectorized_x_train_smote,y_train_smote, cv=10)\n",
    "# Print cross-validation scores and their average\n",
    "print(\"Cross-validation scores:\", cv_scores)\n",
    "print(\"Average cross-validation score:\", cv_scores.mean())"
   ]
  },
  {
   "cell_type": "markdown",
   "id": "86db1efe-f4cb-484b-af95-0ffd617ef4cb",
   "metadata": {},
   "source": [
    "## Test dataset"
   ]
  },
  {
   "cell_type": "code",
   "execution_count": 113,
   "id": "67795d0a-ac27-43ff-8904-c367dc8bde14",
   "metadata": {},
   "outputs": [
    {
     "data": {
      "text/html": [
       "<div>\n",
       "<style scoped>\n",
       "    .dataframe tbody tr th:only-of-type {\n",
       "        vertical-align: middle;\n",
       "    }\n",
       "\n",
       "    .dataframe tbody tr th {\n",
       "        vertical-align: top;\n",
       "    }\n",
       "\n",
       "    .dataframe thead th {\n",
       "        text-align: right;\n",
       "    }\n",
       "</style>\n",
       "<table border=\"1\" class=\"dataframe\">\n",
       "  <thead>\n",
       "    <tr style=\"text-align: right;\">\n",
       "      <th></th>\n",
       "      <th>id</th>\n",
       "      <th>keyword</th>\n",
       "      <th>location</th>\n",
       "      <th>text</th>\n",
       "    </tr>\n",
       "  </thead>\n",
       "  <tbody>\n",
       "    <tr>\n",
       "      <th>0</th>\n",
       "      <td>0</td>\n",
       "      <td>NaN</td>\n",
       "      <td>NaN</td>\n",
       "      <td>Just happened a terrible car crash</td>\n",
       "    </tr>\n",
       "    <tr>\n",
       "      <th>1</th>\n",
       "      <td>2</td>\n",
       "      <td>NaN</td>\n",
       "      <td>NaN</td>\n",
       "      <td>Heard about #earthquake is different cities, s...</td>\n",
       "    </tr>\n",
       "    <tr>\n",
       "      <th>2</th>\n",
       "      <td>3</td>\n",
       "      <td>NaN</td>\n",
       "      <td>NaN</td>\n",
       "      <td>there is a forest fire at spot pond, geese are...</td>\n",
       "    </tr>\n",
       "    <tr>\n",
       "      <th>3</th>\n",
       "      <td>9</td>\n",
       "      <td>NaN</td>\n",
       "      <td>NaN</td>\n",
       "      <td>Apocalypse lighting. #Spokane #wildfires</td>\n",
       "    </tr>\n",
       "    <tr>\n",
       "      <th>4</th>\n",
       "      <td>11</td>\n",
       "      <td>NaN</td>\n",
       "      <td>NaN</td>\n",
       "      <td>Typhoon Soudelor kills 28 in China and Taiwan</td>\n",
       "    </tr>\n",
       "  </tbody>\n",
       "</table>\n",
       "</div>"
      ],
      "text/plain": [
       "   id keyword location                                               text\n",
       "0   0     NaN      NaN                 Just happened a terrible car crash\n",
       "1   2     NaN      NaN  Heard about #earthquake is different cities, s...\n",
       "2   3     NaN      NaN  there is a forest fire at spot pond, geese are...\n",
       "3   9     NaN      NaN           Apocalypse lighting. #Spokane #wildfires\n",
       "4  11     NaN      NaN      Typhoon Soudelor kills 28 in China and Taiwan"
      ]
     },
     "execution_count": 113,
     "metadata": {},
     "output_type": "execute_result"
    }
   ],
   "source": [
    "test_dataset= pd.read_csv(\"test.csv\")\n",
    "test_dataset.head()"
   ]
  },
  {
   "cell_type": "code",
   "execution_count": 114,
   "id": "76531d3a-e262-499b-bed3-56a3c428c2a3",
   "metadata": {},
   "outputs": [],
   "source": [
    "## check the null values of the dataset"
   ]
  },
  {
   "cell_type": "code",
   "execution_count": 115,
   "id": "594d6cdb-6627-4e7a-8f5c-ddc08a8adb93",
   "metadata": {},
   "outputs": [
    {
     "name": "stdout",
     "output_type": "stream",
     "text": [
      "<class 'pandas.core.frame.DataFrame'>\n",
      "RangeIndex: 3263 entries, 0 to 3262\n",
      "Data columns (total 4 columns):\n",
      " #   Column    Non-Null Count  Dtype \n",
      "---  ------    --------------  ----- \n",
      " 0   id        3263 non-null   int64 \n",
      " 1   keyword   3237 non-null   object\n",
      " 2   location  2158 non-null   object\n",
      " 3   text      3263 non-null   object\n",
      "dtypes: int64(1), object(3)\n",
      "memory usage: 102.1+ KB\n"
     ]
    }
   ],
   "source": [
    "test_dataset.info()"
   ]
  },
  {
   "cell_type": "code",
   "execution_count": 116,
   "id": "c1d27c2e-eff4-4f86-b77b-5e5a685022e2",
   "metadata": {},
   "outputs": [],
   "source": [
    "## check the value counts of the keyword"
   ]
  },
  {
   "cell_type": "code",
   "execution_count": 117,
   "id": "9b708e7d-f42a-4084-be7a-7c690e204831",
   "metadata": {},
   "outputs": [
    {
     "data": {
      "text/plain": [
       "keyword\n",
       "deluged               23\n",
       "demolished            22\n",
       "rubble                22\n",
       "first%20responders    21\n",
       "seismic               21\n",
       "                      ..\n",
       "threat                 5\n",
       "fatalities             5\n",
       "forest%20fire          5\n",
       "inundation             4\n",
       "epicentre              1\n",
       "Name: count, Length: 221, dtype: int64"
      ]
     },
     "execution_count": 117,
     "metadata": {},
     "output_type": "execute_result"
    }
   ],
   "source": [
    "test_dataset['keyword'].value_counts()"
   ]
  },
  {
   "cell_type": "code",
   "execution_count": 118,
   "id": "f05397a9-9866-44aa-8ac4-f154ee4bf57d",
   "metadata": {},
   "outputs": [],
   "source": [
    "## check the value counts of the location"
   ]
  },
  {
   "cell_type": "code",
   "execution_count": 119,
   "id": "96289ee0-e48f-45f9-afb0-aff2d06b37fb",
   "metadata": {},
   "outputs": [
    {
     "data": {
      "text/plain": [
       "location\n",
       "New York                  38\n",
       "USA                       37\n",
       "Worldwide                 16\n",
       "United States             15\n",
       "London                    13\n",
       "                          ..\n",
       "Medford, NJ                1\n",
       "Quezon City                1\n",
       "LanÌ¼s                     1\n",
       "USA,Washington,Seattle     1\n",
       "Brussels, Belgium          1\n",
       "Name: count, Length: 1602, dtype: int64"
      ]
     },
     "execution_count": 119,
     "metadata": {},
     "output_type": "execute_result"
    }
   ],
   "source": [
    "test_dataset['location'].value_counts()"
   ]
  },
  {
   "cell_type": "code",
   "execution_count": 120,
   "id": "fdb74bb3-df0e-41ce-b4db-fff113544bc9",
   "metadata": {},
   "outputs": [],
   "source": [
    "## Fill the null values of the dataset"
   ]
  },
  {
   "cell_type": "code",
   "execution_count": 121,
   "id": "31b6558d-4778-4b4f-858a-6f1240c6f241",
   "metadata": {},
   "outputs": [],
   "source": [
    " test_dataset['location'].fillna('Quezon City', inplace=True)\n",
    " test_dataset['keyword'].fillna('epicentre', inplace=True)"
   ]
  },
  {
   "cell_type": "code",
   "execution_count": 122,
   "id": "01474d15-60b0-4325-aa74-0c55e0041fee",
   "metadata": {},
   "outputs": [
    {
     "name": "stdout",
     "output_type": "stream",
     "text": [
      "<class 'pandas.core.frame.DataFrame'>\n",
      "RangeIndex: 3263 entries, 0 to 3262\n",
      "Data columns (total 4 columns):\n",
      " #   Column    Non-Null Count  Dtype \n",
      "---  ------    --------------  ----- \n",
      " 0   id        3263 non-null   int64 \n",
      " 1   keyword   3263 non-null   object\n",
      " 2   location  3263 non-null   object\n",
      " 3   text      3263 non-null   object\n",
      "dtypes: int64(1), object(3)\n",
      "memory usage: 102.1+ KB\n"
     ]
    }
   ],
   "source": [
    "test_dataset.info()"
   ]
  },
  {
   "cell_type": "code",
   "execution_count": 123,
   "id": "a0448c2b-c051-457e-9a1b-7166eb85a7ce",
   "metadata": {},
   "outputs": [],
   "source": [
    "## Text preprocessing"
   ]
  },
  {
   "cell_type": "code",
   "execution_count": 124,
   "id": "5aa12aab-d9d8-4262-9785-d22c14c1bddf",
   "metadata": {},
   "outputs": [],
   "source": [
    "import string\n",
    "import re"
   ]
  },
  {
   "cell_type": "code",
   "execution_count": 125,
   "id": "b0a204ea-a6b2-4b9e-95d9-2d12cfd8fb0f",
   "metadata": {},
   "outputs": [],
   "source": [
    "def remove_punctuations_of_keyword(text):\n",
    "    for punctuations in string.punctuation:\n",
    "        text=text.replace(punctuations,'')\n",
    "    return text\n"
   ]
  },
  {
   "cell_type": "code",
   "execution_count": 126,
   "id": "13d2d9b9-17cc-45af-9be6-6454b8a578e3",
   "metadata": {},
   "outputs": [
    {
     "name": "stderr",
     "output_type": "stream",
     "text": [
      "<>:9: SyntaxWarning: invalid escape sequence '\\d'\n",
      "<>:9: SyntaxWarning: invalid escape sequence '\\d'\n",
      "C:\\Users\\THIS PC\\AppData\\Local\\Temp\\ipykernel_57796\\1917425246.py:9: SyntaxWarning: invalid escape sequence '\\d'\n",
      "  full_text=full_text.str.replace('\\d+','',regex=True)\n"
     ]
    }
   ],
   "source": [
    "def text_preprocess(full_text):\n",
    "    ## convert text into lowercase\n",
    "    full_text=full_text.apply(lambda x:\" \".join(x.lower() for x in x.split()))\n",
    "    ##  remove links\n",
    "    full_text=full_text.apply(lambda x: \" \".join(re.sub(r'^https?:\\/\\/.*[\\r\\n]*','',x,flags=re.MULTILINE) for x in x.split()))\n",
    "    ## remove the puncutations\n",
    "    full_text=full_text.apply(remove_punctuations_of_keyword)\n",
    "    ## Remove the numbers\n",
    "    full_text=full_text.str.replace('\\d+','',regex=True)\n",
    "    ## Remove the stop words\n",
    "    full_text=full_text.apply(lambda x:\" \".join(x for x in x.split() if x not in sw))\n",
    "    ## stemming technique\n",
    "    full_text=full_text.apply(lambda x:\" \".join(ps.stem(x) for x in x.split()))\n",
    "\n",
    "    return full_text\n",
    "test_dataset_text = text_preprocess(test_dataset['text'])\n",
    "test_dataset_keyword = text_preprocess(test_dataset['keyword'])\n",
    "test_dataset_location = text_preprocess(test_dataset['location'])"
   ]
  },
  {
   "cell_type": "code",
   "execution_count": 127,
   "id": "86b67bec-0804-490d-8f0c-c6932dd2775a",
   "metadata": {},
   "outputs": [
    {
     "data": {
      "text/plain": [
       "0    quezon citi\n",
       "1    quezon citi\n",
       "2    quezon citi\n",
       "3    quezon citi\n",
       "4    quezon citi\n",
       "Name: location, dtype: object"
      ]
     },
     "execution_count": 127,
     "metadata": {},
     "output_type": "execute_result"
    }
   ],
   "source": [
    "test_dataset_location.head()"
   ]
  },
  {
   "cell_type": "code",
   "execution_count": 128,
   "id": "00aebeb2-2b37-41b5-a603-5243e8a5d85a",
   "metadata": {},
   "outputs": [
    {
     "data": {
      "text/plain": [
       "0    epicentr\n",
       "1    epicentr\n",
       "2    epicentr\n",
       "3    epicentr\n",
       "4    epicentr\n",
       "Name: keyword, dtype: object"
      ]
     },
     "execution_count": 128,
     "metadata": {},
     "output_type": "execute_result"
    }
   ],
   "source": [
    "test_dataset_keyword.head()"
   ]
  },
  {
   "cell_type": "code",
   "execution_count": 129,
   "id": "a83e879e-18f6-4f80-89d4-0c8b5a3129f9",
   "metadata": {},
   "outputs": [
    {
     "data": {
      "text/plain": [
       "0                             happen terribl car crash\n",
       "1        heard earthquak differ citi stay safe everyon\n",
       "2    forest fire spot pond gees flee across street ...\n",
       "3                       apocalyps light spokan wildfir\n",
       "4                   typhoon soudelor kill china taiwan\n",
       "Name: text, dtype: object"
      ]
     },
     "execution_count": 129,
     "metadata": {},
     "output_type": "execute_result"
    }
   ],
   "source": [
    "test_dataset_text.head()"
   ]
  },
  {
   "cell_type": "code",
   "execution_count": 130,
   "id": "931f0f90-0e3f-4526-9c1e-15819d69c6f1",
   "metadata": {},
   "outputs": [],
   "source": [
    "## create the vocabulary "
   ]
  },
  {
   "cell_type": "code",
   "execution_count": 131,
   "id": "b71d987a-3400-424a-8c70-6815dbab30dd",
   "metadata": {},
   "outputs": [],
   "source": [
    "#from collections import Counter\n",
    "\n",
    "#vocab_test = Counter()"
   ]
  },
  {
   "cell_type": "code",
   "execution_count": 132,
   "id": "a4ab5888-9a51-46bc-ad9c-490a01c55e47",
   "metadata": {},
   "outputs": [],
   "source": [
    "#for words in test_dataset['text']:\n",
    " #   vocab_test.update(words.split())"
   ]
  },
  {
   "cell_type": "code",
   "execution_count": 133,
   "id": "aa9274b9-c355-4ced-85a2-a4d4e5d9a658",
   "metadata": {},
   "outputs": [],
   "source": [
    "#len(vocab_test)"
   ]
  },
  {
   "cell_type": "code",
   "execution_count": 134,
   "id": "aa706079-fd9f-4c30-9e85-631269fb556b",
   "metadata": {},
   "outputs": [],
   "source": [
    "#for words in test_dataset['keyword']:\n",
    " #   vocab_test.update(words.split())"
   ]
  },
  {
   "cell_type": "code",
   "execution_count": 135,
   "id": "5cf08f4b-9582-4363-8b95-73bb0f0a6f91",
   "metadata": {},
   "outputs": [],
   "source": [
    "#len(vocab_test)"
   ]
  },
  {
   "cell_type": "code",
   "execution_count": 136,
   "id": "03706a40-1ff4-4fd8-9857-1cbbcded63a7",
   "metadata": {},
   "outputs": [],
   "source": [
    "#for words in test_dataset['location']:\n",
    " #   vocab_test.update(words.split())"
   ]
  },
  {
   "cell_type": "code",
   "execution_count": 137,
   "id": "041926d2-787f-402a-a061-79123411bddb",
   "metadata": {},
   "outputs": [],
   "source": [
    "#len(vocab_test)"
   ]
  },
  {
   "cell_type": "code",
   "execution_count": 138,
   "id": "0ac6a7ed-7f67-46fd-9e8b-38455614d992",
   "metadata": {},
   "outputs": [],
   "source": [
    "## Combined the columns of test dataset"
   ]
  },
  {
   "cell_type": "code",
   "execution_count": 139,
   "id": "d47b917e-4aaa-4cc9-8028-ffcd55d67105",
   "metadata": {},
   "outputs": [
    {
     "data": {
      "text/plain": [
       "0           epicentr quezon citi happen terribl car crash\n",
       "1       epicentr quezon citi heard earthquak differ ci...\n",
       "2       epicentr quezon citi forest fire spot pond gee...\n",
       "3       epicentr quezon citi apocalyps light spokan wi...\n",
       "4       epicentr quezon citi typhoon soudelor kill chi...\n",
       "                              ...                        \n",
       "3258    epicentr quezon citi earthquak safeti lo angel...\n",
       "3259    epicentr quezon citi storm ri wors last hurric...\n",
       "3260       epicentr quezon citi green line derail chicago\n",
       "3261    epicentr quezon citi meg issu hazard weather o...\n",
       "3262    epicentr quezon citi cityofcalgari activ munic...\n",
       "Length: 3263, dtype: object"
      ]
     },
     "execution_count": 139,
     "metadata": {},
     "output_type": "execute_result"
    }
   ],
   "source": [
    "combined_test_pd= test_dataset_keyword+\" \"+test_dataset_location+\" \"+test_dataset_text\n",
    "combined_test_pd"
   ]
  },
  {
   "cell_type": "code",
   "execution_count": 140,
   "id": "040ce858-5e01-42a5-8635-b12298c83819",
   "metadata": {},
   "outputs": [],
   "source": [
    "import numpy as np\n",
    "\n",
    "def vectorizer_test(ds, vocabulary):\n",
    "    vectorizer_list = []\n",
    "    vocab_set=set(vocabulary)\n",
    "    for sentence in ds:\n",
    "        sentence_list = np.zeros(len(vocabulary), dtype=np.float16)  # Create a zero array for each sentence\n",
    "        sentence_words = set(sentence.split())  # Convert the sentence into a set of words\n",
    "        \n",
    "        for i, word in enumerate(vocabulary):  # Iterate over the vocabulary (list, ordered)\n",
    "            if word in sentence_words:  # Check if the word exists in the sentence\n",
    "                sentence_list[i] = 1  # Set the corresponding index to 1\n",
    "                \n",
    "        vectorizer_list.append(sentence_list)\n",
    "    \n",
    "    # Convert the list of arrays to a numpy array\n",
    "    vectorizer_list_new = np.asarray(vectorizer_list, dtype=np.float16)\n",
    "    \n",
    "    return vectorizer_list_new\n"
   ]
  },
  {
   "cell_type": "code",
   "execution_count": 141,
   "id": "b0921c31-8796-44d1-8cea-251661c54449",
   "metadata": {},
   "outputs": [],
   "source": [
    "vectorizer_test = vectorizer_test(combined_test_pd, vocab_train)"
   ]
  },
  {
   "cell_type": "code",
   "execution_count": 142,
   "id": "b3c0ca75-c974-4346-b2bd-cb5501592b65",
   "metadata": {},
   "outputs": [
    {
     "data": {
      "text/plain": [
       "array([[0., 0., 0., ..., 0., 0., 0.],\n",
       "       [0., 0., 1., ..., 0., 0., 0.],\n",
       "       [0., 0., 0., ..., 0., 0., 0.],\n",
       "       ...,\n",
       "       [0., 0., 0., ..., 0., 0., 0.],\n",
       "       [0., 0., 0., ..., 0., 0., 0.],\n",
       "       [0., 0., 0., ..., 0., 0., 0.]], dtype=float16)"
      ]
     },
     "execution_count": 142,
     "metadata": {},
     "output_type": "execute_result"
    }
   ],
   "source": [
    "vectorizer_test"
   ]
  },
  {
   "cell_type": "code",
   "execution_count": 143,
   "id": "7f945836-0fb5-4609-80ea-f5ae32e3c78c",
   "metadata": {},
   "outputs": [],
   "source": [
    "## store the ids for later use"
   ]
  },
  {
   "cell_type": "code",
   "execution_count": 144,
   "id": "e60e8cc4-9810-40fb-9a3d-251812d305cd",
   "metadata": {},
   "outputs": [
    {
     "data": {
      "text/plain": [
       "0           0\n",
       "1           2\n",
       "2           3\n",
       "3           9\n",
       "4          11\n",
       "        ...  \n",
       "3258    10861\n",
       "3259    10865\n",
       "3260    10868\n",
       "3261    10874\n",
       "3262    10875\n",
       "Name: id, Length: 3263, dtype: int64"
      ]
     },
     "execution_count": 144,
     "metadata": {},
     "output_type": "execute_result"
    }
   ],
   "source": [
    "id =test_dataset['id']\n",
    "id"
   ]
  },
  {
   "cell_type": "code",
   "execution_count": 145,
   "id": "6c44f594-d412-4f00-bd03-e15ca1ddf282",
   "metadata": {},
   "outputs": [],
   "source": [
    "## Make the predictions"
   ]
  },
  {
   "cell_type": "code",
   "execution_count": 150,
   "id": "7e656e62-f4fb-4a1e-ba87-4190b0adf3c1",
   "metadata": {},
   "outputs": [
    {
     "data": {
      "text/plain": [
       "array([0, 0, 1, 0, 0, 0, 0, 0, 1, 0], dtype=int64)"
      ]
     },
     "execution_count": 150,
     "metadata": {},
     "output_type": "execute_result"
    }
   ],
   "source": [
    "rf_clf_predictions = rf_clf.predict(vectorizer_test)\n",
    "rf_clf_predictions[100:110]\n",
    "\n"
   ]
  },
  {
   "cell_type": "code",
   "execution_count": 151,
   "id": "b48eab93-9875-41c9-be9f-798072c26322",
   "metadata": {},
   "outputs": [
    {
     "data": {
      "text/html": [
       "<div>\n",
       "<style scoped>\n",
       "    .dataframe tbody tr th:only-of-type {\n",
       "        vertical-align: middle;\n",
       "    }\n",
       "\n",
       "    .dataframe tbody tr th {\n",
       "        vertical-align: top;\n",
       "    }\n",
       "\n",
       "    .dataframe thead th {\n",
       "        text-align: right;\n",
       "    }\n",
       "</style>\n",
       "<table border=\"1\" class=\"dataframe\">\n",
       "  <thead>\n",
       "    <tr style=\"text-align: right;\">\n",
       "      <th></th>\n",
       "      <th>id</th>\n",
       "      <th>target</th>\n",
       "    </tr>\n",
       "  </thead>\n",
       "  <tbody>\n",
       "    <tr>\n",
       "      <th>0</th>\n",
       "      <td>0</td>\n",
       "      <td>1</td>\n",
       "    </tr>\n",
       "    <tr>\n",
       "      <th>1</th>\n",
       "      <td>2</td>\n",
       "      <td>1</td>\n",
       "    </tr>\n",
       "    <tr>\n",
       "      <th>2</th>\n",
       "      <td>3</td>\n",
       "      <td>1</td>\n",
       "    </tr>\n",
       "    <tr>\n",
       "      <th>3</th>\n",
       "      <td>9</td>\n",
       "      <td>1</td>\n",
       "    </tr>\n",
       "    <tr>\n",
       "      <th>4</th>\n",
       "      <td>11</td>\n",
       "      <td>1</td>\n",
       "    </tr>\n",
       "    <tr>\n",
       "      <th>5</th>\n",
       "      <td>12</td>\n",
       "      <td>1</td>\n",
       "    </tr>\n",
       "    <tr>\n",
       "      <th>6</th>\n",
       "      <td>21</td>\n",
       "      <td>0</td>\n",
       "    </tr>\n",
       "    <tr>\n",
       "      <th>7</th>\n",
       "      <td>22</td>\n",
       "      <td>0</td>\n",
       "    </tr>\n",
       "    <tr>\n",
       "      <th>8</th>\n",
       "      <td>27</td>\n",
       "      <td>0</td>\n",
       "    </tr>\n",
       "    <tr>\n",
       "      <th>9</th>\n",
       "      <td>29</td>\n",
       "      <td>0</td>\n",
       "    </tr>\n",
       "    <tr>\n",
       "      <th>10</th>\n",
       "      <td>30</td>\n",
       "      <td>0</td>\n",
       "    </tr>\n",
       "    <tr>\n",
       "      <th>11</th>\n",
       "      <td>35</td>\n",
       "      <td>0</td>\n",
       "    </tr>\n",
       "    <tr>\n",
       "      <th>12</th>\n",
       "      <td>42</td>\n",
       "      <td>0</td>\n",
       "    </tr>\n",
       "    <tr>\n",
       "      <th>13</th>\n",
       "      <td>43</td>\n",
       "      <td>0</td>\n",
       "    </tr>\n",
       "    <tr>\n",
       "      <th>14</th>\n",
       "      <td>45</td>\n",
       "      <td>0</td>\n",
       "    </tr>\n",
       "    <tr>\n",
       "      <th>15</th>\n",
       "      <td>46</td>\n",
       "      <td>1</td>\n",
       "    </tr>\n",
       "    <tr>\n",
       "      <th>16</th>\n",
       "      <td>47</td>\n",
       "      <td>0</td>\n",
       "    </tr>\n",
       "    <tr>\n",
       "      <th>17</th>\n",
       "      <td>51</td>\n",
       "      <td>1</td>\n",
       "    </tr>\n",
       "    <tr>\n",
       "      <th>18</th>\n",
       "      <td>58</td>\n",
       "      <td>0</td>\n",
       "    </tr>\n",
       "    <tr>\n",
       "      <th>19</th>\n",
       "      <td>60</td>\n",
       "      <td>0</td>\n",
       "    </tr>\n",
       "  </tbody>\n",
       "</table>\n",
       "</div>"
      ],
      "text/plain": [
       "    id  target\n",
       "0    0       1\n",
       "1    2       1\n",
       "2    3       1\n",
       "3    9       1\n",
       "4   11       1\n",
       "5   12       1\n",
       "6   21       0\n",
       "7   22       0\n",
       "8   27       0\n",
       "9   29       0\n",
       "10  30       0\n",
       "11  35       0\n",
       "12  42       0\n",
       "13  43       0\n",
       "14  45       0\n",
       "15  46       1\n",
       "16  47       0\n",
       "17  51       1\n",
       "18  58       0\n",
       "19  60       0"
      ]
     },
     "execution_count": 151,
     "metadata": {},
     "output_type": "execute_result"
    }
   ],
   "source": [
    "\n",
    "# Create submission DataFrame\n",
    "submission_df = pd.DataFrame({\n",
    "    \"id\": id,\n",
    "    \"target\":rf_clf_predictions\n",
    "})\n",
    "\n",
    "submission_df.head(20)"
   ]
  },
  {
   "cell_type": "code",
   "execution_count": 152,
   "id": "d0025114-1724-4d83-a348-d4bad5c73284",
   "metadata": {},
   "outputs": [
    {
     "name": "stdout",
     "output_type": "stream",
     "text": [
      "Submission file saved successfully.\n"
     ]
    }
   ],
   "source": [
    "# # Save submission file\n",
    "submission_df.to_csv(\"model_results.csv\", index=False)\n",
    "\n",
    "print(\"Submission file saved successfully.\")"
   ]
  },
  {
   "cell_type": "code",
   "execution_count": null,
   "id": "cce14109-d1a5-4ed4-82e7-13e631987fb1",
   "metadata": {},
   "outputs": [],
   "source": []
  }
 ],
 "metadata": {
  "kernelspec": {
   "display_name": "Python 3 (ipykernel)",
   "language": "python",
   "name": "python3"
  },
  "language_info": {
   "codemirror_mode": {
    "name": "ipython",
    "version": 3
   },
   "file_extension": ".py",
   "mimetype": "text/x-python",
   "name": "python",
   "nbconvert_exporter": "python",
   "pygments_lexer": "ipython3",
   "version": "3.12.1"
  }
 },
 "nbformat": 4,
 "nbformat_minor": 5
}
